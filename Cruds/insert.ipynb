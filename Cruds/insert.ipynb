{
 "cells": [
  {
   "cell_type": "code",
   "execution_count": null,
   "metadata": {},
   "outputs": [],
   "source": [
    "import pymongo\n",
    "import motor\n",
    "import numpy"
   ]
  },
  {
   "cell_type": "code",
   "execution_count": 22,
   "metadata": {},
   "outputs": [],
   "source": [
    "client = pymongo.MongoClient(\"mongodb://localhost:27017\")\n",
    "client.list_database_names()\n",
    "db = client[\"mystore\"]\n",
    "products_col = db[\"products\"]\n"
   ]
  },
  {
   "cell_type": "code",
   "execution_count": 27,
   "metadata": {},
   "outputs": [],
   "source": [
    "bags = {\"name\": \"bag\", \"price\": 27.28}\n",
    "phones = {\"name\": \"phone\", \"price\": 50.0}\n",
    "notebook = {\"name\": \"notebook\", \"price\": 20}\n",
    "insert_res = products_col.insert_many([bags, phones, notebook])"
   ]
  },
  {
   "cell_type": "code",
   "execution_count": null,
   "metadata": {},
   "outputs": [],
   "source": [
    "pens = {\"name\": \"pen\", \"price\": 2.5}\n",
    "insert_res = products_col.insert_one(pens)"
   ]
  },
  {
   "cell_type": "code",
   "execution_count": null,
   "metadata": {},
   "outputs": [],
   "source": [
    "products_col.delete_many({})"
   ]
  },
  {
   "cell_type": "markdown",
   "metadata": {},
   "source": [
    "### Find Functionality"
   ]
  },
  {
   "cell_type": "code",
   "execution_count": 30,
   "metadata": {},
   "outputs": [
    {
     "name": "stdout",
     "output_type": "stream",
     "text": [
      "{'_id': ObjectId('67df1ec5c82bf9c31ef1b891'), 'name': 'bag', 'price': 27.28}\n"
     ]
    }
   ],
   "source": [
    "find_res = products_col.find_one({\"name\": \"bag\"})\n",
    "print(find_res)"
   ]
  },
  {
   "cell_type": "markdown",
   "metadata": {},
   "source": [
    "find will return a cursor that will load only one data at a time"
   ]
  },
  {
   "cell_type": "code",
   "execution_count": 45,
   "metadata": {},
   "outputs": [],
   "source": [
    "result_cursor = products_col.find({\"name\": \"bag\"})\n"
   ]
  },
  {
   "cell_type": "markdown",
   "metadata": {},
   "source": [
    "when looping over the cursor the cursor will exhaust at the end of the loop and will no longer work when loop is run again"
   ]
  },
  {
   "cell_type": "code",
   "execution_count": null,
   "metadata": {},
   "outputs": [],
   "source": [
    "for result in result_cursor:\n",
    "    print(result)"
   ]
  },
  {
   "cell_type": "code",
   "execution_count": null,
   "metadata": {},
   "outputs": [],
   "source": [
    "result_cursor.alive"
   ]
  },
  {
   "cell_type": "code",
   "execution_count": null,
   "metadata": {},
   "outputs": [],
   "source": [
    "result_cursor.next()"
   ]
  },
  {
   "cell_type": "markdown",
   "metadata": {},
   "source": [
    "### Sorting Functions"
   ]
  },
  {
   "cell_type": "code",
   "execution_count": null,
   "metadata": {},
   "outputs": [],
   "source": [
    "# pymongo.ASCENDING and DESCENDING can be replace by -1 and 1\n",
    "print(\"[+] For ASCENDING\")\n",
    "result_cursor = products_col.find({}).sort(\"price\", pymongo.ASCENDING)\n",
    "for cursor in result_cursor:\n",
    "    print(cursor)\n",
    "\n",
    "print(\"[+] For DESCENDING\")\n",
    "result_cursor = products_col.find({}).sort(\"price\", pymongo.DESCENDING)\n",
    "for cursor in result_cursor:\n",
    "    print(cursor)\n",
    "\n",
    "print(\"[+] Multiple Sorting Fields\")\n",
    "result_cursor = products_col.find({}).sort([(\"price\", -1), (\"name\", 1)])\n",
    "for cursor in result_cursor:\n",
    "    print(cursor)"
   ]
  },
  {
   "cell_type": "markdown",
   "metadata": {},
   "source": [
    "### Skip and Limit"
   ]
  },
  {
   "cell_type": "code",
   "execution_count": 56,
   "metadata": {},
   "outputs": [
    {
     "name": "stdout",
     "output_type": "stream",
     "text": [
      "{'_id': ObjectId('67df1ec5c82bf9c31ef1b891'), 'name': 'bag', 'price': 27.28}\n",
      "{'_id': ObjectId('67df1ec5c82bf9c31ef1b892'), 'name': 'phone', 'price': 50.0}\n",
      "{'_id': ObjectId('67df1ec5c82bf9c31ef1b893'), 'name': 'notebook', 'price': 20}\n"
     ]
    }
   ],
   "source": [
    "for document in products_col.find({}).skip(0).limit(10):\n",
    "    print(document)"
   ]
  },
  {
   "cell_type": "markdown",
   "metadata": {},
   "source": [
    "### Count Functionality"
   ]
  },
  {
   "cell_type": "code",
   "execution_count": 60,
   "metadata": {},
   "outputs": [
    {
     "data": {
      "text/plain": [
       "1"
      ]
     },
     "execution_count": 60,
     "metadata": {},
     "output_type": "execute_result"
    }
   ],
   "source": [
    "products_col.count_documents({})\n",
    "# or\n",
    "products_col.count_documents({\"name\": \"bag\"})"
   ]
  },
  {
   "cell_type": "markdown",
   "metadata": {},
   "source": [
    "### Distinct"
   ]
  },
  {
   "cell_type": "code",
   "execution_count": 61,
   "metadata": {},
   "outputs": [
    {
     "data": {
      "text/plain": [
       "['bag', 'notebook', 'phone']"
      ]
     },
     "execution_count": 61,
     "metadata": {},
     "output_type": "execute_result"
    }
   ],
   "source": [
    "result_cursor = products_col.find({})\n",
    "result_cursor.distinct(\"name\")"
   ]
  },
  {
   "cell_type": "markdown",
   "metadata": {},
   "source": [
    "### Projection functionality\n",
    "projection is only returning what fields are required rather than loading all the fields of a record in a database"
   ]
  },
  {
   "cell_type": "code",
   "execution_count": 71,
   "metadata": {},
   "outputs": [],
   "source": [
    "result_cursor = products_col.find({\"name\": \"bag\"}, {\"price\": 1, \"_id\": 0})"
   ]
  },
  {
   "cell_type": "code",
   "execution_count": 72,
   "metadata": {},
   "outputs": [
    {
     "name": "stdout",
     "output_type": "stream",
     "text": [
      "{'price': 27.28}\n"
     ]
    }
   ],
   "source": [
    "for cursor in result_cursor:\n",
    "    print(cursor)"
   ]
  },
  {
   "cell_type": "code",
   "execution_count": null,
   "metadata": {},
   "outputs": [],
   "source": []
  }
 ],
 "metadata": {
  "kernelspec": {
   "display_name": "myenv",
   "language": "python",
   "name": "python3"
  },
  "language_info": {
   "codemirror_mode": {
    "name": "ipython",
    "version": 3
   },
   "file_extension": ".py",
   "mimetype": "text/x-python",
   "name": "python",
   "nbconvert_exporter": "python",
   "pygments_lexer": "ipython3",
   "version": "3.9.21"
  }
 },
 "nbformat": 4,
 "nbformat_minor": 2
}
