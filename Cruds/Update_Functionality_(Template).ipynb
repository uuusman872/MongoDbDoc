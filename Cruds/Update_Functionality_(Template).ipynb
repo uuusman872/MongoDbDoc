{
 "cells": [
  {
   "cell_type": "markdown",
   "id": "31010f21",
   "metadata": {},
   "source": [
    "# MongoDB Update Functionality\n",
    "\n",
    "Go over ways to update entries in MongoDB in pymongo"
   ]
  },
  {
   "cell_type": "code",
   "execution_count": 3,
   "id": "07599bc2",
   "metadata": {},
   "outputs": [],
   "source": [
    "import pymongo\n",
    "from pymongo import MongoClient"
   ]
  },
  {
   "cell_type": "markdown",
   "id": "ac3f352e",
   "metadata": {},
   "source": [
    "### Initalize A Client, Connect To DB, Speicfy Collection"
   ]
  },
  {
   "cell_type": "code",
   "execution_count": 4,
   "id": "707dc3c1",
   "metadata": {},
   "outputs": [],
   "source": [
    "client = MongoClient(\"mongodb://localhost:27017/\")\n",
    "db = client[\"my_store\"]\n",
    "products_col = db[\"products\"]"
   ]
  },
  {
   "cell_type": "markdown",
   "id": "6319cdac",
   "metadata": {},
   "source": [
    "### update()\n",
    "*Depreceated, do not use in your applications*"
   ]
  },
  {
   "cell_type": "code",
   "execution_count": 7,
   "id": "8b54bcae",
   "metadata": {},
   "outputs": [
    {
     "name": "stdout",
     "output_type": "stream",
     "text": [
      "{'_id': ObjectId('67dfe5235d99446a25d0586a'), 'product_name': 'Bags P', 'price': 25.76, 'date': datetime.datetime(2025, 3, 23, 11, 25, 14, 918000)}\n",
      "{'_id': ObjectId('67dfe5235d99446a25d0586b'), 'name': 'Product B', 'price': 20.4, 'date': datetime.datetime(2025, 3, 23, 11, 25, 14, 918000)}\n",
      "{'_id': ObjectId('67dfe5235d99446a25d0586c'), 'name': 'Product C', 'price': 15.8, 'date': datetime.datetime(2025, 3, 23, 11, 25, 14, 918000)}\n",
      "{'_id': ObjectId('67dfe5235d99446a25d0586d'), 'name': 'Product D', 'price': 30.0, 'date': datetime.datetime(2025, 3, 23, 11, 25, 14, 918000)}\n",
      "{'_id': ObjectId('67dfe5235d99446a25d0586e'), 'name': 'Product E', 'price': 25.5, 'date': datetime.datetime(2025, 3, 23, 11, 25, 14, 918000)}\n",
      "{'_id': ObjectId('67dfe5235d99446a25d0586f'), 'name': 'Product F', 'price': 18.2, 'date': datetime.datetime(2025, 3, 23, 11, 25, 14, 919000)}\n",
      "{'_id': ObjectId('67dfe5235d99446a25d05870'), 'name': 'Product G', 'price': 22.9, 'date': datetime.datetime(2025, 3, 23, 11, 25, 14, 919000)}\n",
      "{'_id': ObjectId('67dfe5235d99446a25d05871'), 'name': 'Product H', 'price': 14.7, 'date': datetime.datetime(2025, 3, 23, 11, 25, 14, 919000)}\n",
      "{'_id': ObjectId('67dfe5235d99446a25d05872'), 'name': 'Product I', 'price': 27.3, 'date': datetime.datetime(2025, 3, 23, 11, 25, 14, 919000)}\n",
      "{'_id': ObjectId('67dfe5235d99446a25d05873'), 'name': 'Product J', 'price': 19.6, 'date': datetime.datetime(2025, 3, 23, 11, 25, 14, 919000)}\n",
      "{'_id': ObjectId('67dfef30511455877e88c571'), 'name': 'Hat', 'price': 25.76, 'date': datetime.datetime(2025, 3, 23, 11, 25, 14, 919000)}\n"
     ]
    }
   ],
   "source": [
    "cursor = products_col.find({})\n",
    "for c in cursor:\n",
    "    print(c)"
   ]
  },
  {
   "cell_type": "markdown",
   "id": "8733e8d2",
   "metadata": {},
   "source": [
    "### update_one()"
   ]
  },
  {
   "cell_type": "code",
   "execution_count": 8,
   "id": "0bfd3851",
   "metadata": {},
   "outputs": [],
   "source": [
    "update_one_res = products_col.update_one({\"name\": \"Product A\"}, {\"$set\": {\"price\": 50}})"
   ]
  },
  {
   "cell_type": "code",
   "execution_count": null,
   "id": "dae2a3f6",
   "metadata": {},
   "outputs": [
    {
     "name": "stdout",
     "output_type": "stream",
     "text": [
      "True\n",
      "1\n",
      "0\n",
      "{'n': 1, 'nModified': 0, 'ok': 1.0, 'updatedExisting': True}\n",
      "None\n"
     ]
    }
   ],
   "source": [
    "print(update_one_res.acknowledged)\n",
    "print(update_one_res.matched_count)\n",
    "print(update_one_res.modified_count)\n",
    "print(update_one_res.raw_result)\n",
    "print(update_one_res.raw_result)"
   ]
  },
  {
   "cell_type": "markdown",
   "id": "d7a997b1",
   "metadata": {},
   "source": [
    "### replace_one()"
   ]
  },
  {
   "cell_type": "code",
   "execution_count": 17,
   "id": "d959fa43",
   "metadata": {},
   "outputs": [
    {
     "name": "stdout",
     "output_type": "stream",
     "text": [
      "True\n",
      "1\n",
      "1\n",
      "{'n': 1, 'nModified': 1, 'ok': 1.0, 'updatedExisting': True}\n",
      "None\n"
     ]
    }
   ],
   "source": [
    "replace_one_res = products_col.replace_one({\"name\": \"Bags\"}, {\"product_name\": \"Bags\", \"price\": 25.76})\n",
    "print(replace_one_res.acknowledged)\n",
    "print(replace_one_res.matched_count)\n",
    "print(replace_one_res.modified_count)\n",
    "print(replace_one_res.raw_result)\n",
    "print(replace_one_res.upserted_id)"
   ]
  },
  {
   "cell_type": "code",
   "execution_count": null,
   "id": "f1ed7024",
   "metadata": {},
   "outputs": [],
   "source": []
  },
  {
   "cell_type": "markdown",
   "id": "7c7df700",
   "metadata": {},
   "source": [
    "### update_many()"
   ]
  },
  {
   "cell_type": "code",
   "execution_count": 20,
   "id": "0dc9ecc6",
   "metadata": {},
   "outputs": [
    {
     "name": "stdout",
     "output_type": "stream",
     "text": [
      "True\n",
      "1\n",
      "1\n",
      "{'n': 1, 'nModified': 1, 'ok': 1.0, 'updatedExisting': True}\n",
      "None\n"
     ]
    }
   ],
   "source": [
    "update_many_res = products_col.update_many({\"product_name\": \"Bags\"}, {\"$set\": {\"product_name\": \"Bags P\", \"price\": 25.76}})\n",
    "print(update_many_res.acknowledged)\n",
    "print(update_many_res.matched_count)\n",
    "print(update_many_res.modified_count)\n",
    "print(update_many_res.raw_result)\n",
    "print(update_many_res.upserted_id)"
   ]
  },
  {
   "cell_type": "code",
   "execution_count": null,
   "id": "47d8a199",
   "metadata": {},
   "outputs": [],
   "source": []
  },
  {
   "cell_type": "markdown",
   "id": "cf165ba7",
   "metadata": {},
   "source": [
    "### upserting"
   ]
  },
  {
   "cell_type": "code",
   "execution_count": 21,
   "id": "b0a6a3fb",
   "metadata": {},
   "outputs": [
    {
     "name": "stdout",
     "output_type": "stream",
     "text": [
      "True\n",
      "0\n",
      "0\n",
      "{'n': 1, 'upserted': ObjectId('67dfef30511455877e88c571'), 'nModified': 0, 'ok': 1.0, 'updatedExisting': False}\n",
      "67dfef30511455877e88c571\n"
     ]
    }
   ],
   "source": [
    "update_many_res = products_col.update_many({\"name\": \"Hat\"}, {\"$set\": {\"name\": \"Hat\", \"price\": 25.76}}, upsert=True)\n",
    "print(update_many_res.acknowledged)\n",
    "print(update_many_res.matched_count)\n",
    "print(update_many_res.modified_count)\n",
    "print(update_many_res.raw_result)\n",
    "print(update_many_res.upserted_id)"
   ]
  },
  {
   "cell_type": "code",
   "execution_count": null,
   "id": "28846f1e",
   "metadata": {},
   "outputs": [],
   "source": []
  },
  {
   "cell_type": "markdown",
   "id": "b8e6c6e3",
   "metadata": {},
   "source": [
    "### Update Operators"
   ]
  },
  {
   "cell_type": "code",
   "execution_count": 6,
   "id": "c89e89ce",
   "metadata": {},
   "outputs": [
    {
     "data": {
      "text/plain": [
       "UpdateResult({'n': 11, 'nModified': 11, 'ok': 1.0, 'updatedExisting': True}, acknowledged=True)"
      ]
     },
     "execution_count": 6,
     "metadata": {},
     "output_type": "execute_result"
    }
   ],
   "source": [
    "products_col.update_many({}, {\"$currentDate\": {\"date\": True}})"
   ]
  },
  {
   "cell_type": "code",
   "execution_count": 9,
   "id": "1da4fbe9",
   "metadata": {},
   "outputs": [
    {
     "data": {
      "text/plain": [
       "UpdateResult({'n': 11, 'nModified': 11, 'ok': 1.0, 'updatedExisting': True}, acknowledged=True)"
      ]
     },
     "execution_count": 9,
     "metadata": {},
     "output_type": "execute_result"
    }
   ],
   "source": [
    "products_col.update_many({}, {\"$rename\": {\"date\": \"date_added\"}})\n"
   ]
  },
  {
   "cell_type": "code",
   "execution_count": 10,
   "id": "e11b057a",
   "metadata": {},
   "outputs": [
    {
     "data": {
      "text/plain": [
       "UpdateResult({'n': 11, 'nModified': 11, 'ok': 1.0, 'updatedExisting': True}, acknowledged=True)"
      ]
     },
     "execution_count": 10,
     "metadata": {},
     "output_type": "execute_result"
    }
   ],
   "source": [
    "products_col.update_many({}, {\"$mul\": {\"price\": 2}})\n"
   ]
  },
  {
   "cell_type": "code",
   "execution_count": 11,
   "id": "749bb365",
   "metadata": {},
   "outputs": [
    {
     "data": {
      "text/plain": [
       "UpdateResult({'n': 11, 'nModified': 11, 'ok': 1.0, 'updatedExisting': True}, acknowledged=True)"
      ]
     },
     "execution_count": 11,
     "metadata": {},
     "output_type": "execute_result"
    }
   ],
   "source": [
    "products_col.update_many({}, {\"$unset\": {\"date_added\": True}})\n"
   ]
  },
  {
   "cell_type": "code",
   "execution_count": null,
   "id": "6647e623",
   "metadata": {},
   "outputs": [],
   "source": []
  }
 ],
 "metadata": {
  "kernelspec": {
   "display_name": "myenv",
   "language": "python",
   "name": "python3"
  },
  "language_info": {
   "codemirror_mode": {
    "name": "ipython",
    "version": 3
   },
   "file_extension": ".py",
   "mimetype": "text/x-python",
   "name": "python",
   "nbconvert_exporter": "python",
   "pygments_lexer": "ipython3",
   "version": "3.9.21"
  }
 },
 "nbformat": 4,
 "nbformat_minor": 5
}
