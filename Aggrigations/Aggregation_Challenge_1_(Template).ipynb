{
 "cells": [
  {
   "cell_type": "markdown",
   "id": "ccfcc3b3",
   "metadata": {},
   "source": [
    "# Aggregation Mini Challenge 1\n",
    "\n",
    "Apply what you have learned so far about the aggregation framework to try solve this challenge"
   ]
  },
  {
   "cell_type": "code",
   "execution_count": 1,
   "id": "a5bc05db",
   "metadata": {},
   "outputs": [],
   "source": [
    "# Import pymongo dependencies\n",
    "from pymongo import MongoClient"
   ]
  },
  {
   "cell_type": "code",
   "execution_count": 4,
   "id": "82db96de",
   "metadata": {},
   "outputs": [],
   "source": [
    "# Set up your MongoClient and database variable\n",
    "\n",
    "mongodb_uri = \"mongodb://localhost:27017/\"\n",
    "db_name = \"aggregation_test\"\n",
    "client = MongoClient(mongodb_uri)\n",
    "db = client[db_name]"
   ]
  },
  {
   "cell_type": "code",
   "execution_count": 3,
   "id": "072bba0e",
   "metadata": {},
   "outputs": [],
   "source": [
    "# Function which prints out all the results of a cursor\n",
    "def print_cursor(cursor):\n",
    "    for document in cursor:\n",
    "        print(document, end=\"\\n\\n\")"
   ]
  },
  {
   "cell_type": "code",
   "execution_count": 8,
   "id": "e8b96a24",
   "metadata": {},
   "outputs": [
    {
     "name": "stdout",
     "output_type": "stream",
     "text": [
      "{'beauty_product_seller_id': ObjectId('67e19b0e891479c315f8077c')}\n",
      "\n",
      "{'beauty_product_seller_id': ObjectId('67e19b0e891479c315f8077c')}\n",
      "\n",
      "{'beauty_product_seller_id': ObjectId('67e19b0e891479c315f8077f')}\n",
      "\n",
      "{'beauty_product_seller_id': ObjectId('67e19b0e891479c315f80780')}\n",
      "\n"
     ]
    }
   ],
   "source": [
    "### Challenge Part 1:\n",
    "###   Return entries of each unique 'seller_id' associated with the  \n",
    "###   'prodcuts' collection that have a \"Beauty\" tag. These entries should \n",
    "###   have an attribute called 'beauty_product_seller_id' which is set \n",
    "###   equal to the related 'seller_id' of the product.\n",
    "###\n",
    "### Example entry from cursor: \n",
    "###  {'beauty_product_seller_id': ObjectId(...)}\n",
    "print_cursor(\n",
    "    db.products.aggregate([\n",
    "        {\"$match\": {\"tags\": \"Beauty\"}},\n",
    "        {\"$project\": {\"beauty_product_seller_id\": \"$seller_id\", \"_id\": 0}}\n",
    "    ])\n",
    ")\n"
   ]
  },
  {
   "cell_type": "code",
   "execution_count": null,
   "id": "79071a23",
   "metadata": {},
   "outputs": [],
   "source": [
    "# Print out your results\n"
   ]
  },
  {
   "cell_type": "code",
   "execution_count": 28,
   "id": "5c4eaeb3",
   "metadata": {},
   "outputs": [
    {
     "name": "stdout",
     "output_type": "stream",
     "text": [
      "{'seller_id': [ObjectId('67e19b0e891479c315f8077f'), ObjectId('67e19b0e891479c315f80780'), ObjectId('67e19b0e891479c315f8077c')], 'tags': 'Beauty'}\n",
      "\n",
      "{'seller_id': [ObjectId('67e19b0e891479c315f8077c')], 'tags': 'Kitchen'}\n",
      "\n",
      "{'seller_id': [ObjectId('67e19b0e891479c315f8077d')], 'tags': 'Office'}\n",
      "\n",
      "{'seller_id': [ObjectId('67e19b0e891479c315f8077c')], 'tags': 'Home'}\n",
      "\n",
      "{'seller_id': [ObjectId('67e19b0e891479c315f8077d')], 'tags': 'School'}\n",
      "\n"
     ]
    }
   ],
   "source": [
    "### Challenge Part 2:\n",
    "###   Get an array of 'seller_id' attributes from products for each avaiable\n",
    "###   'tag' entry. Result entries should include a 'tag' attribute and a\n",
    "###   'seller_ids' attribute which is an array with all the 'seller_id'.\n",
    "###  \n",
    "### Example entry from cursor: \n",
    "### {'tag': 'Kitchen',\"seller_ids\": [ObjectId(...)]}\n",
    "print_cursor(\n",
    "    db.products.aggregate([\n",
    "        {\"$unwind\": \"$tags\"},  # Split tags array into separate documents\n",
    "        {\"$group\": {\n",
    "            \"_id\": \"$tags\",\n",
    "            \"seller_id\": {\"$addToSet\": \"$seller_id\"}\n",
    "        }},\n",
    "        {\"$project\": {\"_id\": 0, \"tags\": \"$_id\", \"seller_id\": 1}}\n",
    "    ])\n",
    ")\n"
   ]
  },
  {
   "cell_type": "code",
   "execution_count": null,
   "id": "47d98d2d",
   "metadata": {},
   "outputs": [],
   "source": [
    "# Print out your results\n"
   ]
  },
  {
   "cell_type": "code",
   "execution_count": 34,
   "id": "ff0a980a",
   "metadata": {},
   "outputs": [
    {
     "name": "stdout",
     "output_type": "stream",
     "text": [
      "{'tag': 'Kitchen', 'num_seller': 1}\n",
      "\n",
      "{'tag': 'Beauty', 'num_seller': 3}\n",
      "\n",
      "{'tag': 'Office', 'num_seller': 1}\n",
      "\n",
      "{'tag': 'Home', 'num_seller': 1}\n",
      "\n",
      "{'tag': 'School', 'num_seller': 1}\n",
      "\n"
     ]
    }
   ],
   "source": [
    "### Challenge Part 3:\n",
    "###   Display the number of unique seller ids there are for each availble \n",
    "###   'tag' for 'prodcuts'. Result entries should include a 'tag' attribute \n",
    "###   and a 'num_sellers' attribute which is a integer. Sort by 'tag' name.\n",
    "###  \n",
    "### Example entry from cursor: \n",
    "### {'tag': 'Kitchen',\"num_sellers\": 1}\n",
    "print_cursor(db.products.aggregate([\n",
    "    {\"$unwind\": \"$tags\"},\n",
    "    {\"$group\": {\"_id\": \"$tags\", \"unique_sellers\": {\"$addToSet\": \"$seller_id\"}}},\n",
    "    {\"$project\": {\"_id\": 0, \"tag\": \"$_id\", \"num_seller\": {\"$size\": \"$unique_sellers\"}}}\n",
    "]))\n"
   ]
  },
  {
   "cell_type": "code",
   "execution_count": null,
   "id": "5bc3fe75",
   "metadata": {},
   "outputs": [],
   "source": [
    "# Print out your results\n"
   ]
  }
 ],
 "metadata": {
  "kernelspec": {
   "display_name": "myenv",
   "language": "python",
   "name": "python3"
  },
  "language_info": {
   "codemirror_mode": {
    "name": "ipython",
    "version": 3
   },
   "file_extension": ".py",
   "mimetype": "text/x-python",
   "name": "python",
   "nbconvert_exporter": "python",
   "pygments_lexer": "ipython3",
   "version": "3.9.21"
  }
 },
 "nbformat": 4,
 "nbformat_minor": 5
}
