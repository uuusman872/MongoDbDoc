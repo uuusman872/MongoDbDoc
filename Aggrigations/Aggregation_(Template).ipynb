{
 "cells": [
  {
   "cell_type": "markdown",
   "id": "34176bb0",
   "metadata": {},
   "source": [
    "# MongoDB Aggregation Pipeline In Python\n",
    "\n",
    "Learn about the various stages and configurations you can create to configure an Aggregation Pipeline\n",
    "\n",
    "Stages: [match](#match), [project](#project), [unset](#unset), [limit](#limit), [skip](#skip), [sort](#sort), [count](#count), [sortByCount](#sortByCount), [unwind](#unwind), [group](#group), [addFields](#addFields), [sample](#sample), [lookup](#lookup), [unionWith](#unionWith), [out](#out), [merge](#merge)\n",
    "\n",
    "Operators: [size](#size-(operator)), [in](#in-(operator)), [arrayElemAt](#arrayElemAt-(operator)), [first](#first-(operator)), [count](#count-(accumulator-operator)), [sum](#sum-(accumulator-operator)), [first, last](#first,-last-(accumulator-operators)), [push](#push-(accumulator-operator)), [addToSet](#addToSet-(accumulator-operator)), [regexMatch](#regexMatch-(operator)), [cond](#cond-(operator)), [Date](#Date-Operators), [expr](#expr-(operator)), [ifNull](#ifNull-(operator)), [type](#type-(operator)), [switch](#switch-(operator))"
   ]
  },
  {
   "cell_type": "code",
   "execution_count": 1,
   "id": "7ec67890",
   "metadata": {},
   "outputs": [],
   "source": [
    "from pymongo import MongoClient"
   ]
  },
  {
   "cell_type": "code",
   "execution_count": 2,
   "id": "2989084b",
   "metadata": {},
   "outputs": [],
   "source": [
    "mongodb_uri = \"mongodb://localhost:27017/\"\n",
    "db_name = \"aggregation_test\""
   ]
  },
  {
   "cell_type": "code",
   "execution_count": 3,
   "id": "adeb6e53",
   "metadata": {},
   "outputs": [],
   "source": [
    "client = MongoClient(mongodb_uri)\n",
    "db = client[db_name]"
   ]
  },
  {
   "cell_type": "markdown",
   "id": "6b961009",
   "metadata": {},
   "source": [
    "### Helper Function"
   ]
  },
  {
   "cell_type": "code",
   "execution_count": 4,
   "id": "4fb93ffb",
   "metadata": {},
   "outputs": [],
   "source": [
    "def print_cursor(cursor):\n",
    "    for document in cursor:\n",
    "        print(document, end=\"\\n\\n\")"
   ]
  },
  {
   "cell_type": "markdown",
   "id": "79b6911e",
   "metadata": {},
   "source": [
    "### Inserting Some Sample Data"
   ]
  },
  {
   "cell_type": "code",
   "execution_count": 7,
   "id": "69cea02e",
   "metadata": {},
   "outputs": [
    {
     "ename": "ModuleNotFoundError",
     "evalue": "No module named 'insert_aggregation_sample_data'",
     "output_type": "error",
     "traceback": [
      "\u001b[1;31m---------------------------------------------------------------------------\u001b[0m",
      "\u001b[1;31mModuleNotFoundError\u001b[0m                       Traceback (most recent call last)",
      "Cell \u001b[1;32mIn[7], line 1\u001b[0m\n\u001b[1;32m----> 1\u001b[0m \u001b[38;5;28;01mimport\u001b[39;00m\u001b[38;5;250m \u001b[39m\u001b[38;5;21;01minsert_aggregation_sample_data\u001b[39;00m\u001b[38;5;250m \u001b[39m\u001b[38;5;28;01mas\u001b[39;00m\u001b[38;5;250m \u001b[39m\u001b[38;5;21;01miasd\u001b[39;00m\n\u001b[0;32m      2\u001b[0m iasd\u001b[38;5;241m.\u001b[39minsert_data(mongodb_uri, db_name)\n",
      "\u001b[1;31mModuleNotFoundError\u001b[0m: No module named 'insert_aggregation_sample_data'"
     ]
    }
   ],
   "source": [
    "import insert_aggregation_sample_data as iasd\n",
    "iasd.insert_data(mongodb_uri, db_name)"
   ]
  },
  {
   "cell_type": "markdown",
   "id": "3a0dd88d",
   "metadata": {},
   "source": [
    "### match"
   ]
  },
  {
   "cell_type": "code",
   "execution_count": 5,
   "id": "d7493e3f",
   "metadata": {},
   "outputs": [
    {
     "name": "stdout",
     "output_type": "stream",
     "text": [
      "{'_id': ObjectId('67e19b0e891479c315f80784'), 'name': 'Pens', 'seller_id': ObjectId('67e19b0e891479c315f8077d'), 'tags': ['Office', 'School']}\n",
      "\n"
     ]
    }
   ],
   "source": [
    "print_cursor(\n",
    "db.products.aggregate([\n",
    "    {\"$match\": {\"name\": \"Pens\"}}\n",
    "]))"
   ]
  },
  {
   "cell_type": "code",
   "execution_count": 22,
   "id": "4f513b62",
   "metadata": {},
   "outputs": [
    {
     "name": "stdout",
     "output_type": "stream",
     "text": [
      "{'_id': ObjectId('67e19b0e891479c315f80783'), 'name': 'Moisturizer', 'seller_id': ObjectId('67e19b0e891479c315f8077c'), 'tags': ['Beauty']}\n",
      "\n",
      "{'_id': ObjectId('67e19b0e891479c315f80785'), 'name': 'Face Cleanser', 'seller_id': ObjectId('67e19b0e891479c315f8077c'), 'tags': ['Beauty']}\n",
      "\n",
      "{'_id': ObjectId('67e19b0e891479c315f80786'), 'name': 'Concealer Makeup', 'seller_id': ObjectId('67e19b0e891479c315f8077f'), 'tags': ['Beauty']}\n",
      "\n",
      "{'_id': ObjectId('67e19b0e891479c315f80787'), 'name': 'Eyeliner', 'seller_id': ObjectId('67e19b0e891479c315f80780'), 'tags': ['Beauty']}\n",
      "\n"
     ]
    }
   ],
   "source": [
    "print_cursor(\n",
    "    db.products.aggregate([\n",
    "        {\"$match\": {\"tags\": {\"$in\": [\"Beauty\"]}}}\n",
    "    ])\n",
    ")\n",
    "\n",
    "# print_cursor(\n",
    "#     db.products.aggregate([\n",
    "#         {\"$match\": {\n",
    "#             \"tags\": \"Home\"\n",
    "#         }}\n",
    "#     ])\n",
    "# )"
   ]
  },
  {
   "cell_type": "code",
   "execution_count": 20,
   "id": "10a67102",
   "metadata": {},
   "outputs": [
    {
     "name": "stdout",
     "output_type": "stream",
     "text": [
      "{'_id': ObjectId('67e19b0e891479c315f80782'), 'name': 'Mug', 'seller_id': ObjectId('67e19b0e891479c315f8077c'), 'tags': ['Home', 'Kitchen']}\n",
      "\n",
      "{'_id': ObjectId('67e19b0e891479c315f80783'), 'name': 'Moisturizer', 'seller_id': ObjectId('67e19b0e891479c315f8077c'), 'tags': ['Beauty']}\n",
      "\n",
      "{'_id': ObjectId('67e19b0e891479c315f80785'), 'name': 'Face Cleanser', 'seller_id': ObjectId('67e19b0e891479c315f8077c'), 'tags': ['Beauty']}\n",
      "\n",
      "{'_id': ObjectId('67e19b0e891479c315f80786'), 'name': 'Concealer Makeup', 'seller_id': ObjectId('67e19b0e891479c315f8077f'), 'tags': ['Beauty']}\n",
      "\n",
      "{'_id': ObjectId('67e19b0e891479c315f80787'), 'name': 'Eyeliner', 'seller_id': ObjectId('67e19b0e891479c315f80780'), 'tags': ['Beauty']}\n",
      "\n"
     ]
    }
   ],
   "source": [
    "print_cursor(db.products.aggregate([\n",
    "    {\n",
    "        \"$match\": {\n",
    "            \"$or\": [\n",
    "                {\"tags\": \"Beauty\"},\n",
    "                {\"tags\": \"Home\"}\n",
    "            ]\n",
    "        }\n",
    "    }\n",
    "]))"
   ]
  },
  {
   "cell_type": "markdown",
   "id": "ac3ca0e0",
   "metadata": {},
   "source": [
    "### project"
   ]
  },
  {
   "cell_type": "code",
   "execution_count": 11,
   "id": "87a954d8",
   "metadata": {},
   "outputs": [],
   "source": [
    "cursor = db.products.aggregate([\n",
    "    {\"$project\": {\"_id\": 0, \"project_name\": \"$name\", \"tags\": 1}}\n",
    "])"
   ]
  },
  {
   "cell_type": "code",
   "execution_count": 24,
   "id": "2a748591",
   "metadata": {},
   "outputs": [
    {
     "name": "stdout",
     "output_type": "stream",
     "text": [
      "{'tags': ['Office', 'School'], 'product_name': 'Pens'}\n",
      "\n"
     ]
    }
   ],
   "source": [
    "print_cursor(db.products.aggregate([\n",
    "    {\"$match\": {\"name\": \"Pens\"}},\n",
    "    {\"$project\": {\"tags\": 1, \"product_name\": \"$name\", \"_id\": 0}}\n",
    "]))"
   ]
  },
  {
   "cell_type": "markdown",
   "id": "04882350",
   "metadata": {},
   "source": [
    "### unset"
   ]
  },
  {
   "cell_type": "code",
   "execution_count": 23,
   "id": "c32b98a0",
   "metadata": {},
   "outputs": [
    {
     "name": "stdout",
     "output_type": "stream",
     "text": [
      "{'name': 'Pens', 'seller_id': ObjectId('67e19b0e891479c315f8077d'), 'tags': ['Office', 'School']}\n",
      "\n"
     ]
    }
   ],
   "source": [
    "print_cursor(db.products.aggregate([\n",
    "    {\"$match\": {\"name\": \"Pens\"}},\n",
    "    {\"$unset\": [\"_id\"]}\n",
    "]))"
   ]
  },
  {
   "cell_type": "markdown",
   "id": "8e7c4a5b",
   "metadata": {},
   "source": [
    "### limit"
   ]
  },
  {
   "cell_type": "code",
   "execution_count": 16,
   "id": "44b55947",
   "metadata": {},
   "outputs": [
    {
     "name": "stdout",
     "output_type": "stream",
     "text": [
      "{'_id': ObjectId('67e19b0e891479c315f80782'), 'name': 'Mug', 'seller_id': ObjectId('67e19b0e891479c315f8077c'), 'tags': ['Home', 'Kitchen']}\n",
      "\n",
      "{'_id': ObjectId('67e19b0e891479c315f80783'), 'name': 'Moisturizer', 'seller_id': ObjectId('67e19b0e891479c315f8077c'), 'tags': ['Beauty']}\n",
      "\n",
      "{'_id': ObjectId('67e19b0e891479c315f80784'), 'name': 'Pens', 'seller_id': ObjectId('67e19b0e891479c315f8077d'), 'tags': ['Office', 'School']}\n",
      "\n"
     ]
    }
   ],
   "source": [
    "cur = db.products.aggregate([\n",
    "    {\"$limit\": 3}\n",
    "])\n",
    "print_cursor(cur)"
   ]
  },
  {
   "cell_type": "markdown",
   "id": "faf134d5",
   "metadata": {},
   "source": [
    "### skip"
   ]
  },
  {
   "cell_type": "code",
   "execution_count": 17,
   "id": "ab0b19d8",
   "metadata": {},
   "outputs": [
    {
     "name": "stdout",
     "output_type": "stream",
     "text": [
      "{'_id': ObjectId('67e19b0e891479c315f80783'), 'name': 'Moisturizer', 'seller_id': ObjectId('67e19b0e891479c315f8077c'), 'tags': ['Beauty']}\n",
      "\n",
      "{'_id': ObjectId('67e19b0e891479c315f80784'), 'name': 'Pens', 'seller_id': ObjectId('67e19b0e891479c315f8077d'), 'tags': ['Office', 'School']}\n",
      "\n",
      "{'_id': ObjectId('67e19b0e891479c315f80785'), 'name': 'Face Cleanser', 'seller_id': ObjectId('67e19b0e891479c315f8077c'), 'tags': ['Beauty']}\n",
      "\n"
     ]
    }
   ],
   "source": [
    "cur = db.products.aggregate([\n",
    "    {\"$skip\": 1},\n",
    "    {\"$limit\": 3}\n",
    "])\n",
    "print_cursor(cur)"
   ]
  },
  {
   "cell_type": "markdown",
   "id": "cf3cfd7e",
   "metadata": {},
   "source": [
    "### sort"
   ]
  },
  {
   "cell_type": "code",
   "execution_count": 18,
   "id": "66868355",
   "metadata": {},
   "outputs": [
    {
     "name": "stdout",
     "output_type": "stream",
     "text": [
      "{'_id': ObjectId('67e19b0e891479c315f80786'), 'name': 'Concealer Makeup', 'seller_id': ObjectId('67e19b0e891479c315f8077f'), 'tags': ['Beauty']}\n",
      "\n",
      "{'_id': ObjectId('67e19b0e891479c315f80787'), 'name': 'Eyeliner', 'seller_id': ObjectId('67e19b0e891479c315f80780'), 'tags': ['Beauty']}\n",
      "\n",
      "{'_id': ObjectId('67e19b0e891479c315f80785'), 'name': 'Face Cleanser', 'seller_id': ObjectId('67e19b0e891479c315f8077c'), 'tags': ['Beauty']}\n",
      "\n",
      "{'_id': ObjectId('67e19b0e891479c315f80783'), 'name': 'Moisturizer', 'seller_id': ObjectId('67e19b0e891479c315f8077c'), 'tags': ['Beauty']}\n",
      "\n",
      "{'_id': ObjectId('67e19b0e891479c315f80782'), 'name': 'Mug', 'seller_id': ObjectId('67e19b0e891479c315f8077c'), 'tags': ['Home', 'Kitchen']}\n",
      "\n",
      "{'_id': ObjectId('67e19b0e891479c315f80784'), 'name': 'Pens', 'seller_id': ObjectId('67e19b0e891479c315f8077d'), 'tags': ['Office', 'School']}\n",
      "\n"
     ]
    }
   ],
   "source": [
    "cur = db.products.aggregate([\n",
    "    {\"$sort\": {\"name\": 1}}\n",
    "])\n",
    "print_cursor(cur)"
   ]
  },
  {
   "cell_type": "markdown",
   "id": "cc603160",
   "metadata": {},
   "source": [
    "### count"
   ]
  },
  {
   "cell_type": "code",
   "execution_count": 19,
   "id": "e614928f",
   "metadata": {},
   "outputs": [
    {
     "name": "stdout",
     "output_type": "stream",
     "text": [
      "{'beauty_products_count': 4}\n",
      "\n"
     ]
    }
   ],
   "source": [
    "cur = db.products.aggregate([\n",
    "    {\"$match\": {\"tags\": \"Beauty\"}},\n",
    "    {\"$count\": \"beauty_products_count\"}\n",
    "])\n",
    "print_cursor(cur)"
   ]
  },
  {
   "cell_type": "markdown",
   "id": "bb13a6bf",
   "metadata": {},
   "source": [
    "### sortByCount"
   ]
  },
  {
   "cell_type": "code",
   "execution_count": 20,
   "id": "33fb709e",
   "metadata": {},
   "outputs": [
    {
     "name": "stdout",
     "output_type": "stream",
     "text": [
      "{'_id': ['Beauty'], 'count': 4}\n",
      "\n",
      "{'_id': ['Home', 'Kitchen'], 'count': 1}\n",
      "\n",
      "{'_id': ['Office', 'School'], 'count': 1}\n",
      "\n"
     ]
    }
   ],
   "source": [
    "cur = db.products.aggregate([\n",
    "    {\"$sortByCount\": \"$tags\"}\n",
    "])\n",
    "print_cursor(cur)"
   ]
  },
  {
   "cell_type": "markdown",
   "id": "513b1fda",
   "metadata": {},
   "source": [
    "### size (operator)"
   ]
  },
  {
   "cell_type": "code",
   "execution_count": 21,
   "id": "bf97ff8f",
   "metadata": {},
   "outputs": [
    {
     "name": "stdout",
     "output_type": "stream",
     "text": [
      "{'tags': ['Home', 'Kitchen'], 'nums_of_tags': 2}\n",
      "\n",
      "{'tags': ['Beauty'], 'nums_of_tags': 1}\n",
      "\n",
      "{'tags': ['Office', 'School'], 'nums_of_tags': 2}\n",
      "\n",
      "{'tags': ['Beauty'], 'nums_of_tags': 1}\n",
      "\n",
      "{'tags': ['Beauty'], 'nums_of_tags': 1}\n",
      "\n",
      "{'tags': ['Beauty'], 'nums_of_tags': 1}\n",
      "\n"
     ]
    }
   ],
   "source": [
    "cur = db.products.aggregate([\n",
    "    {\"$project\": {\"_id\": 0, \"nums_of_tags\": {\"$size\": \"$tags\"}, \"tags\": 1}}\n",
    "])\n",
    "print_cursor(cur)"
   ]
  },
  {
   "cell_type": "markdown",
   "id": "68aace6a",
   "metadata": {},
   "source": [
    "### in (operator)"
   ]
  },
  {
   "cell_type": "code",
   "execution_count": 22,
   "id": "c72ad1c9",
   "metadata": {},
   "outputs": [],
   "source": [
    "cur = db.products.aggregate([\n",
    "    {\n",
    "        \"$project\": {\n",
    "            \"_id\": 0,\n",
    "            \"is_beauty_product\": {\n",
    "                \"$in\": [\"beauty\", \"$tags\"]\n",
    "            },\n",
    "            \"tags\": 1  # Move \"tags\" outside of \"$in\"\n",
    "        }\n",
    "    }\n",
    "])\n"
   ]
  },
  {
   "cell_type": "code",
   "execution_count": 23,
   "id": "65541099",
   "metadata": {},
   "outputs": [
    {
     "name": "stdout",
     "output_type": "stream",
     "text": [
      "{'tags': ['Home', 'Kitchen'], 'is_beauty_product': False}\n",
      "\n",
      "{'tags': ['Beauty'], 'is_beauty_product': False}\n",
      "\n",
      "{'tags': ['Office', 'School'], 'is_beauty_product': False}\n",
      "\n",
      "{'tags': ['Beauty'], 'is_beauty_product': False}\n",
      "\n",
      "{'tags': ['Beauty'], 'is_beauty_product': False}\n",
      "\n",
      "{'tags': ['Beauty'], 'is_beauty_product': False}\n",
      "\n"
     ]
    }
   ],
   "source": [
    "print_cursor(cur)"
   ]
  },
  {
   "cell_type": "markdown",
   "id": "263b898e",
   "metadata": {},
   "source": [
    "### arrayElemAt (operator)"
   ]
  },
  {
   "cell_type": "code",
   "execution_count": 24,
   "id": "b922b021",
   "metadata": {},
   "outputs": [
    {
     "name": "stdout",
     "output_type": "stream",
     "text": [
      "{'name': 'Mug', 'first_tag': 'Home', 'tags': ['Home', 'Kitchen']}\n",
      "\n",
      "{'name': 'Moisturizer', 'first_tag': 'Beauty', 'tags': ['Beauty']}\n",
      "\n",
      "{'name': 'Pens', 'first_tag': 'Office', 'tags': ['Office', 'School']}\n",
      "\n",
      "{'name': 'Face Cleanser', 'first_tag': 'Beauty', 'tags': ['Beauty']}\n",
      "\n",
      "{'name': 'Concealer Makeup', 'first_tag': 'Beauty', 'tags': ['Beauty']}\n",
      "\n",
      "{'name': 'Eyeliner', 'first_tag': 'Beauty', 'tags': ['Beauty']}\n",
      "\n"
     ]
    }
   ],
   "source": [
    "cur = db.products.aggregate([\n",
    "    {\n",
    "        \"$project\": {\"_id\": 0, \"name\": 1, \"first_tag\": {\"$arrayElemAt\": [\"$tags\", 0]}, \"tags\": \"$tags\"}\n",
    "    }\n",
    "])\n",
    "print_cursor(cur)"
   ]
  },
  {
   "cell_type": "markdown",
   "id": "5e043b40",
   "metadata": {},
   "source": [
    "### first (operator)"
   ]
  },
  {
   "cell_type": "code",
   "execution_count": 25,
   "id": "e191bf85",
   "metadata": {},
   "outputs": [
    {
     "name": "stdout",
     "output_type": "stream",
     "text": [
      "{'name': 'Mug', 'first_tag': 'Home', 'tags': ['Home', 'Kitchen']}\n",
      "\n",
      "{'name': 'Moisturizer', 'first_tag': 'Beauty', 'tags': ['Beauty']}\n",
      "\n",
      "{'name': 'Pens', 'first_tag': 'Office', 'tags': ['Office', 'School']}\n",
      "\n",
      "{'name': 'Face Cleanser', 'first_tag': 'Beauty', 'tags': ['Beauty']}\n",
      "\n",
      "{'name': 'Concealer Makeup', 'first_tag': 'Beauty', 'tags': ['Beauty']}\n",
      "\n",
      "{'name': 'Eyeliner', 'first_tag': 'Beauty', 'tags': ['Beauty']}\n",
      "\n"
     ]
    }
   ],
   "source": [
    "cur = db.products.aggregate([\n",
    "    {\n",
    "        \"$project\": {\"_id\": 0, \"name\": 1, \"first_tag\": {\"$first\": \"$tags\"}, \"tags\": \"$tags\"}\n",
    "    }\n",
    "])\n",
    "print_cursor(cur)"
   ]
  },
  {
   "cell_type": "markdown",
   "id": "30e68ea2",
   "metadata": {},
   "source": [
    "### unwind"
   ]
  },
  {
   "cell_type": "code",
   "execution_count": 30,
   "id": "f37aef64",
   "metadata": {},
   "outputs": [
    {
     "name": "stdout",
     "output_type": "stream",
     "text": [
      "{'name': 'Mug', 'tags': 'Home'}\n",
      "\n",
      "{'name': 'Mug', 'tags': 'Kitchen'}\n",
      "\n",
      "{'name': 'Moisturizer', 'tags': 'Beauty'}\n",
      "\n",
      "{'name': 'Pens', 'tags': 'Office'}\n",
      "\n",
      "{'name': 'Pens', 'tags': 'School'}\n",
      "\n",
      "{'name': 'Face Cleanser', 'tags': 'Beauty'}\n",
      "\n",
      "{'name': 'Concealer Makeup', 'tags': 'Beauty'}\n",
      "\n",
      "{'name': 'Eyeliner', 'tags': 'Beauty'}\n",
      "\n"
     ]
    }
   ],
   "source": [
    "print_cursor(db.products.aggregate([\n",
    "    {\"$unwind\": \"$tags\"},\n",
    "    {\"$unset\": [\"_id\", \"seller_id\"]}\n",
    "]))"
   ]
  },
  {
   "cell_type": "code",
   "execution_count": 45,
   "id": "cfee9b2c",
   "metadata": {},
   "outputs": [
    {
     "name": "stdout",
     "output_type": "stream",
     "text": [
      "{'items': [{'product_id': ObjectId('67e19b0e891479c315f80783'), 'quantity': 1}, {'product_id': ObjectId('67e19b0e891479c315f80785'), 'quantity': 1}]}\n",
      "\n",
      "{'items': [{'product_id': ObjectId('67e19b0e891479c315f80786'), 'quantity': 1}, {'product_id': ObjectId('67e19b0e891479c315f80787'), 'quantity': 1}]}\n",
      "\n",
      "{'items': [{'product_id': ObjectId('67e19b0e891479c315f80784'), 'quantity': 5}, {'product_id': ObjectId('67e19b0e891479c315f80782'), 'quantity': 1}]}\n",
      "\n",
      "{'items': [{'product_id': ObjectId('67e19b0e891479c315f80783'), 'quantity': 2}, {'product_id': ObjectId('67e19b0e891479c315f80787'), 'quantity': 1}]}\n",
      "\n",
      "{'items': [{'product_id': ObjectId('67e19b0e891479c315f80783'), 'quantity': 1}]}\n",
      "\n",
      "{'items': [{'product_id': ObjectId('67e19b0e891479c315f80785'), 'quantity': 1}]}\n",
      "\n"
     ]
    }
   ],
   "source": [
    "print_cursor(\n",
    "    db.orders.aggregate([\n",
    "        {\"$project\": {\"items\": 1, \"_id\": 0}}\n",
    "    ])\n",
    ")"
   ]
  },
  {
   "cell_type": "code",
   "execution_count": 52,
   "id": "7d3b058a",
   "metadata": {},
   "outputs": [
    {
     "name": "stdout",
     "output_type": "stream",
     "text": [
      "{'name': 'Mug', 'tags': 'Home', 'some_index': 0}\n",
      "\n",
      "{'name': 'Mug', 'tags': 'Kitchen', 'some_index': 1}\n",
      "\n",
      "{'name': 'Pens', 'tags': 'Office', 'some_index': 0}\n",
      "\n",
      "{'name': 'Pens', 'tags': 'School', 'some_index': 1}\n",
      "\n"
     ]
    }
   ],
   "source": [
    "cursor = db.products.aggregate([\n",
    "        {\"$match\": {\"tags\": {\"$size\": 2}}},\n",
    "        {\"$unwind\":  {\"path\": \"$tags\", \"includeArrayIndex\": \"some_index\"}},\n",
    "        {\"$unset\": [\"_id\", \"seller_id\"]}\n",
    "    ])\n",
    "print_cursor(cursor)"
   ]
  },
  {
   "cell_type": "markdown",
   "id": "ec99a04c",
   "metadata": {},
   "source": [
    "### group"
   ]
  },
  {
   "cell_type": "code",
   "execution_count": 62,
   "id": "edf6c924",
   "metadata": {},
   "outputs": [
    {
     "name": "stdout",
     "output_type": "stream",
     "text": [
      "{'_id': ['Beauty'], 'numOfCount': 4}\n",
      "\n",
      "{'_id': ['Office', 'School'], 'numOfCount': 1}\n",
      "\n",
      "{'_id': ['Home', 'Kitchen'], 'numOfCount': 1}\n",
      "\n"
     ]
    }
   ],
   "source": [
    "print_cursor(db.products.aggregate([\n",
    "    {\"$group\": {\"_id\": \"$tags\", \"numOfCount\": {\"$count\": {}}}},\n",
    "]))\n"
   ]
  },
  {
   "cell_type": "code",
   "execution_count": 72,
   "id": "385e48e6",
   "metadata": {},
   "outputs": [
    {
     "name": "stdout",
     "output_type": "stream",
     "text": [
      "{'_id': ObjectId('67e19b0e891479c315f80788'), 'items': [{'product_id': ObjectId('67e19b0e891479c315f80783'), 'quantity': 1}, {'product_id': ObjectId('67e19b0e891479c315f80785'), 'quantity': 1}]}\n",
      "\n",
      "{'_id': ObjectId('67e19b0e891479c315f80789'), 'items': [{'product_id': ObjectId('67e19b0e891479c315f80786'), 'quantity': 1}, {'product_id': ObjectId('67e19b0e891479c315f80787'), 'quantity': 1}]}\n",
      "\n",
      "{'_id': ObjectId('67e19b0e891479c315f8078a'), 'items': [{'product_id': ObjectId('67e19b0e891479c315f80784'), 'quantity': 5}, {'product_id': ObjectId('67e19b0e891479c315f80782'), 'quantity': 1}]}\n",
      "\n",
      "{'_id': ObjectId('67e19b0e891479c315f8078b'), 'items': [{'product_id': ObjectId('67e19b0e891479c315f80783'), 'quantity': 2}, {'product_id': ObjectId('67e19b0e891479c315f80787'), 'quantity': 1}]}\n",
      "\n",
      "{'_id': ObjectId('67e19b0e891479c315f8078c'), 'items': [{'product_id': ObjectId('67e19b0e891479c315f80783'), 'quantity': 1}]}\n",
      "\n",
      "{'_id': ObjectId('67e19b0e891479c315f8078d'), 'items': [{'product_id': ObjectId('67e19b0e891479c315f80785'), 'quantity': 1}]}\n",
      "\n"
     ]
    }
   ],
   "source": [
    "print_cursor(\n",
    "    db.orders.aggregate([\n",
    "        {\"$match\": {}}\n",
    "    ])\n",
    ")"
   ]
  },
  {
   "cell_type": "code",
   "execution_count": 70,
   "id": "3d87ee6c",
   "metadata": {},
   "outputs": [
    {
     "name": "stdout",
     "output_type": "stream",
     "text": [
      "{'_id': ObjectId('67e19b0e891479c315f80786'), 'total_quantity': 1}\n",
      "\n",
      "{'_id': ObjectId('67e19b0e891479c315f80785'), 'total_quantity': 2}\n",
      "\n",
      "{'_id': ObjectId('67e19b0e891479c315f80784'), 'total_quantity': 5}\n",
      "\n",
      "{'_id': ObjectId('67e19b0e891479c315f80782'), 'total_quantity': 1}\n",
      "\n",
      "{'_id': ObjectId('67e19b0e891479c315f80787'), 'total_quantity': 2}\n",
      "\n",
      "{'_id': ObjectId('67e19b0e891479c315f80783'), 'total_quantity': 4}\n",
      "\n"
     ]
    }
   ],
   "source": [
    "print_cursor(\n",
    "    db.orders.aggregate([\n",
    "        {\"$unwind\": \"$items\"},\n",
    "        {\"$group\": {\"_id\": \"$items.product_id\", \"total_quantity\": {\"$sum\": \"$items.quantity\"}}}\n",
    "    ])\n",
    ")"
   ]
  },
  {
   "cell_type": "markdown",
   "id": "a279c576",
   "metadata": {},
   "source": [
    "### count (accumulator operator)"
   ]
  },
  {
   "cell_type": "code",
   "execution_count": null,
   "id": "5b87d6a7",
   "metadata": {},
   "outputs": [],
   "source": []
  },
  {
   "cell_type": "code",
   "execution_count": null,
   "id": "ecaa3279",
   "metadata": {},
   "outputs": [],
   "source": []
  },
  {
   "cell_type": "markdown",
   "id": "3bcb34b4",
   "metadata": {},
   "source": [
    "### sum (accumulator operator)"
   ]
  },
  {
   "cell_type": "code",
   "execution_count": null,
   "id": "9e9b9428",
   "metadata": {},
   "outputs": [],
   "source": []
  },
  {
   "cell_type": "code",
   "execution_count": 79,
   "id": "483e0fa9",
   "metadata": {},
   "outputs": [
    {
     "name": "stdout",
     "output_type": "stream",
     "text": [
      "{'_id': ObjectId('67e19b0e891479c315f80782'), 'name': 'Mug', 'seller_id': ObjectId('67e19b0e891479c315f8077c'), 'tags': ['Home', 'Kitchen']}\n",
      "\n",
      "{'_id': ObjectId('67e19b0e891479c315f80783'), 'name': 'Moisturizer', 'seller_id': ObjectId('67e19b0e891479c315f8077c'), 'tags': ['Beauty']}\n",
      "\n",
      "{'_id': ObjectId('67e19b0e891479c315f80784'), 'name': 'Pens', 'seller_id': ObjectId('67e19b0e891479c315f8077d'), 'tags': ['Office', 'School']}\n",
      "\n",
      "{'_id': ObjectId('67e19b0e891479c315f80785'), 'name': 'Face Cleanser', 'seller_id': ObjectId('67e19b0e891479c315f8077c'), 'tags': ['Beauty']}\n",
      "\n",
      "{'_id': ObjectId('67e19b0e891479c315f80786'), 'name': 'Concealer Makeup', 'seller_id': ObjectId('67e19b0e891479c315f8077f'), 'tags': ['Beauty']}\n",
      "\n",
      "{'_id': ObjectId('67e19b0e891479c315f80787'), 'name': 'Eyeliner', 'seller_id': ObjectId('67e19b0e891479c315f80780'), 'tags': ['Beauty']}\n",
      "\n"
     ]
    }
   ],
   "source": [
    "print_cursor(\n",
    "    db.products.aggregate([\n",
    "        {\"$match\": {}}\n",
    "    ])\n",
    ")"
   ]
  },
  {
   "cell_type": "markdown",
   "id": "00e61049",
   "metadata": {},
   "source": [
    "### first, last (accumulator operators)"
   ]
  },
  {
   "cell_type": "code",
   "execution_count": 83,
   "id": "eb92e8a1",
   "metadata": {},
   "outputs": [
    {
     "name": "stdout",
     "output_type": "stream",
     "text": [
      "{'_id': ['Home', 'Kitchen'], 'num_entries': 1, 'first': 'Mug', 'last': 'Mug'}\n",
      "\n",
      "{'_id': ['Beauty'], 'num_entries': 4, 'first': 'Moisturizer', 'last': 'Eyeliner'}\n",
      "\n",
      "{'_id': ['Office', 'School'], 'num_entries': 1, 'first': 'Pens', 'last': 'Pens'}\n",
      "\n"
     ]
    }
   ],
   "source": [
    "print_cursor(\n",
    "    db.products.aggregate([\n",
    "        {\"$group\": {\"_id\": \"$tags\", \"num_entries\": { \"$count\": {} }, \"first\": {\"$first\": \"$name\"}, \"last\": {\"$last\": \"$name\"}}}\n",
    "    ])\n",
    ")"
   ]
  },
  {
   "cell_type": "code",
   "execution_count": null,
   "id": "96daac5e",
   "metadata": {},
   "outputs": [],
   "source": []
  },
  {
   "cell_type": "markdown",
   "id": "5995ad84",
   "metadata": {},
   "source": [
    "### push (accumulator operator)"
   ]
  },
  {
   "cell_type": "code",
   "execution_count": 84,
   "id": "96d2b785",
   "metadata": {},
   "outputs": [
    {
     "name": "stdout",
     "output_type": "stream",
     "text": [
      "{'_id': ['Home', 'Kitchen'], 'products': ['Mug']}\n",
      "\n",
      "{'_id': ['Beauty'], 'products': ['Moisturizer', 'Face Cleanser', 'Concealer Makeup', 'Eyeliner']}\n",
      "\n",
      "{'_id': ['Office', 'School'], 'products': ['Pens']}\n",
      "\n"
     ]
    }
   ],
   "source": [
    "print_cursor(db.products.aggregate([\n",
    "    {\"$group\": {\"_id\": \"$tags\", \"products\": {\"$push\": \"$name\"}}}\n",
    "]))"
   ]
  },
  {
   "cell_type": "code",
   "execution_count": null,
   "id": "30ac5920",
   "metadata": {
    "scrolled": true
   },
   "outputs": [],
   "source": []
  },
  {
   "cell_type": "markdown",
   "id": "3ed8a264",
   "metadata": {},
   "source": [
    "### addToSet (accumulator operator)"
   ]
  },
  {
   "cell_type": "code",
   "execution_count": 85,
   "id": "266f042d",
   "metadata": {},
   "outputs": [
    {
     "name": "stdout",
     "output_type": "stream",
     "text": [
      "{'_id': ['Home', 'Kitchen'], 'products': ['Mug']}\n",
      "\n",
      "{'_id': ['Beauty'], 'products': ['Eyeliner', 'Concealer Makeup', 'Moisturizer', 'Face Cleanser']}\n",
      "\n",
      "{'_id': ['Office', 'School'], 'products': ['Pens']}\n",
      "\n"
     ]
    }
   ],
   "source": [
    "print_cursor(db.products.aggregate([\n",
    "    {\"$group\": {\"_id\": \"$tags\", \"products\": {\"$addToSet\": \"$name\"}}}\n",
    "]))"
   ]
  },
  {
   "cell_type": "code",
   "execution_count": null,
   "id": "7178b7bb",
   "metadata": {},
   "outputs": [],
   "source": []
  },
  {
   "cell_type": "code",
   "execution_count": null,
   "id": "0056f6c5",
   "metadata": {},
   "outputs": [],
   "source": []
  },
  {
   "cell_type": "code",
   "execution_count": null,
   "id": "887b606d",
   "metadata": {
    "scrolled": true
   },
   "outputs": [],
   "source": []
  },
  {
   "cell_type": "markdown",
   "id": "df3d0e92",
   "metadata": {},
   "source": [
    "### $$ROOT (system variable)"
   ]
  },
  {
   "cell_type": "code",
   "execution_count": 87,
   "id": "7a1ffb52",
   "metadata": {},
   "outputs": [
    {
     "name": "stdout",
     "output_type": "stream",
     "text": [
      "{'_id': ['Home', 'Kitchen'], 'products': [{'_id': ObjectId('67e19b0e891479c315f80782'), 'name': 'Mug', 'seller_id': ObjectId('67e19b0e891479c315f8077c'), 'tags': ['Home', 'Kitchen']}]}\n",
      "\n",
      "{'_id': ['Beauty'], 'products': [{'_id': ObjectId('67e19b0e891479c315f80785'), 'name': 'Face Cleanser', 'seller_id': ObjectId('67e19b0e891479c315f8077c'), 'tags': ['Beauty']}, {'_id': ObjectId('67e19b0e891479c315f80786'), 'name': 'Concealer Makeup', 'seller_id': ObjectId('67e19b0e891479c315f8077f'), 'tags': ['Beauty']}, {'_id': ObjectId('67e19b0e891479c315f80783'), 'name': 'Moisturizer', 'seller_id': ObjectId('67e19b0e891479c315f8077c'), 'tags': ['Beauty']}, {'_id': ObjectId('67e19b0e891479c315f80787'), 'name': 'Eyeliner', 'seller_id': ObjectId('67e19b0e891479c315f80780'), 'tags': ['Beauty']}]}\n",
      "\n",
      "{'_id': ['Office', 'School'], 'products': [{'_id': ObjectId('67e19b0e891479c315f80784'), 'name': 'Pens', 'seller_id': ObjectId('67e19b0e891479c315f8077d'), 'tags': ['Office', 'School']}]}\n",
      "\n"
     ]
    }
   ],
   "source": [
    "print_cursor(db.products.aggregate([\n",
    "    {\"$group\": {\"_id\": \"$tags\", \"products\": {\"$addToSet\": \"$$ROOT\"}}}\n",
    "]))"
   ]
  },
  {
   "cell_type": "code",
   "execution_count": null,
   "id": "f264acd9",
   "metadata": {},
   "outputs": [],
   "source": []
  },
  {
   "cell_type": "markdown",
   "id": "daff72dd",
   "metadata": {},
   "source": [
    "### addFields"
   ]
  },
  {
   "cell_type": "code",
   "execution_count": 38,
   "id": "5561e4d6",
   "metadata": {},
   "outputs": [
    {
     "name": "stdout",
     "output_type": "stream",
     "text": [
      "{'name': 'Pens', 'tags': ['Office', 'School'], 'count_tags': 2}\n",
      "\n"
     ]
    }
   ],
   "source": [
    "print_cursor(db.products.aggregate([\n",
    "    {\"$match\": {\"name\": \"Pens\"}},\n",
    "    {\"$addFields\": {\"count_tags\": {\"$size\": \"$tags\"}}},\n",
    "    {\"$unset\": [\"_id\", \"seller_id\"]}\n",
    "]))"
   ]
  },
  {
   "cell_type": "markdown",
   "id": "400e3fb1",
   "metadata": {},
   "source": [
    "### sample"
   ]
  },
  {
   "cell_type": "code",
   "execution_count": 44,
   "id": "84e27037",
   "metadata": {},
   "outputs": [
    {
     "name": "stdout",
     "output_type": "stream",
     "text": [
      "{'name': 'Eyeliner', 'tags': ['Beauty']}\n",
      "\n",
      "{'name': 'Moisturizer', 'tags': ['Beauty']}\n",
      "\n",
      "{'name': 'Face Cleanser', 'tags': ['Beauty']}\n",
      "\n"
     ]
    }
   ],
   "source": [
    "print_cursor(db.products.aggregate([\n",
    "    {\"$sample\": {\"size\": 3}},\n",
    "    {\"$unset\": [\"_id\", \"seller_id\"]}\n",
    "]))"
   ]
  },
  {
   "cell_type": "markdown",
   "id": "d262c1bd",
   "metadata": {},
   "source": [
    "### lookup"
   ]
  },
  {
   "cell_type": "code",
   "execution_count": 45,
   "id": "3450bbd7",
   "metadata": {},
   "outputs": [
    {
     "name": "stdout",
     "output_type": "stream",
     "text": [
      "{'_id': ObjectId('67e19b0e891479c315f80782'), 'name': 'Mug', 'seller_id': ObjectId('67e19b0e891479c315f8077c'), 'tags': ['Home', 'Kitchen'], 'seller_join': [{'_id': ObjectId('67e19b0e891479c315f8077c'), 'name': 'Sarah'}]}\n",
      "\n",
      "{'_id': ObjectId('67e19b0e891479c315f80783'), 'name': 'Moisturizer', 'seller_id': ObjectId('67e19b0e891479c315f8077c'), 'tags': ['Beauty'], 'seller_join': [{'_id': ObjectId('67e19b0e891479c315f8077c'), 'name': 'Sarah'}]}\n",
      "\n",
      "{'_id': ObjectId('67e19b0e891479c315f80784'), 'name': 'Pens', 'seller_id': ObjectId('67e19b0e891479c315f8077d'), 'tags': ['Office', 'School'], 'seller_join': [{'_id': ObjectId('67e19b0e891479c315f8077d'), 'name': 'Bob'}]}\n",
      "\n",
      "{'_id': ObjectId('67e19b0e891479c315f80785'), 'name': 'Face Cleanser', 'seller_id': ObjectId('67e19b0e891479c315f8077c'), 'tags': ['Beauty'], 'seller_join': [{'_id': ObjectId('67e19b0e891479c315f8077c'), 'name': 'Sarah'}]}\n",
      "\n",
      "{'_id': ObjectId('67e19b0e891479c315f80786'), 'name': 'Concealer Makeup', 'seller_id': ObjectId('67e19b0e891479c315f8077f'), 'tags': ['Beauty'], 'seller_join': [{'_id': ObjectId('67e19b0e891479c315f8077f'), 'name': 'Lisa'}]}\n",
      "\n",
      "{'_id': ObjectId('67e19b0e891479c315f80787'), 'name': 'Eyeliner', 'seller_id': ObjectId('67e19b0e891479c315f80780'), 'tags': ['Beauty'], 'seller_join': [{'_id': ObjectId('67e19b0e891479c315f80780'), 'name': 'Jessica'}]}\n",
      "\n"
     ]
    }
   ],
   "source": [
    "print_cursor(\n",
    "    db.products.aggregate([\n",
    "        {\"$lookup\": {\n",
    "            \"from\": \"users\",\n",
    "            \"localField\": \"seller_id\",\n",
    "            \"foreignField\": \"_id\",\n",
    "            \"as\": \"seller_join\"\n",
    "        }}\n",
    "    ])\n",
    ")"
   ]
  },
  {
   "cell_type": "code",
   "execution_count": 50,
   "id": "ea3e519a",
   "metadata": {},
   "outputs": [
    {
     "name": "stdout",
     "output_type": "stream",
     "text": [
      "{'product_name': 'Mug', 'seller_name': 'Sarah'}\n",
      "\n",
      "{'product_name': 'Moisturizer', 'seller_name': 'Sarah'}\n",
      "\n",
      "{'product_name': 'Pens', 'seller_name': 'Bob'}\n",
      "\n",
      "{'product_name': 'Face Cleanser', 'seller_name': 'Sarah'}\n",
      "\n",
      "{'product_name': 'Concealer Makeup', 'seller_name': 'Lisa'}\n",
      "\n",
      "{'product_name': 'Eyeliner', 'seller_name': 'Jessica'}\n",
      "\n"
     ]
    }
   ],
   "source": [
    "print_cursor(\n",
    "    db.products.aggregate([\n",
    "        {\"$lookup\": {\n",
    "            \"from\": \"users\",\n",
    "            \"localField\": \"seller_id\",\n",
    "            \"foreignField\": \"_id\",\n",
    "            \"as\": \"seller_join\"\n",
    "        }},\n",
    "        {\"$project\": {\"_id\": 0, \"product_name\": \"$name\", \"seller_name\": {\"$first\": \"$seller_join.name\"}}}\n",
    "    ])\n",
    ")"
   ]
  },
  {
   "cell_type": "code",
   "execution_count": 12,
   "id": "16b18ef3",
   "metadata": {},
   "outputs": [
    {
     "name": "stdout",
     "output_type": "stream",
     "text": [
      "{'product_name': 'Sarah', 'products': ['Mug', 'Moisturizer', 'Face Cleanser']}\n",
      "\n",
      "{'product_name': 'Bob', 'products': ['Pens']}\n",
      "\n",
      "{'product_name': 'Lisa', 'products': ['Concealer Makeup']}\n",
      "\n",
      "{'product_name': 'Jessica', 'products': ['Eyeliner']}\n",
      "\n"
     ]
    }
   ],
   "source": [
    "print_cursor(\n",
    "    db.users.aggregate([\n",
    "        {\"$lookup\": {\n",
    "            \"from\": \"products\",\n",
    "            \"localField\": \"_id\",\n",
    "            \"foreignField\": \"seller_id\",\n",
    "            \"as\": \"products\"\n",
    "        }},\n",
    "        {\"$addFields\": {\"num_products\": {\"$size\": \"$products\"}}},\n",
    "        {\"$match\": {\"num_products\": {\"$gte\": 1}}},\n",
    "        {\"$project\": {\"_id\": 0, \"product_name\": \"$name\", \"products\": \"$products.name\"}}\n",
    "    ])\n",
    ")"
   ]
  },
  {
   "cell_type": "code",
   "execution_count": 23,
   "id": "041ee45b",
   "metadata": {},
   "outputs": [
    {
     "name": "stdout",
     "output_type": "stream",
     "text": [
      "{'seller_name': 'Sarah', 'products': ['Mug', 'Moisturizer', 'Face Cleanser']}\n",
      "\n",
      "{'seller_name': 'Lisa', 'products': ['Concealer Makeup']}\n",
      "\n",
      "{'seller_name': 'Jessica', 'products': ['Eyeliner']}\n",
      "\n",
      "{'seller_name': 'Bob', 'products': ['Pens']}\n",
      "\n"
     ]
    }
   ],
   "source": [
    "print_cursor(\n",
    "    db.products.aggregate([\n",
    "        {\"$group\": {\"_id\": \"$seller_id\", \"product_name\": {\"$push\": \"$name\"}}},\n",
    "        {\"$lookup\": {\n",
    "            \"from\": \"users\",\n",
    "            \"localField\": \"_id\",\n",
    "            \"foreignField\": \"_id\",\n",
    "            \"as\": \"sellers\"\n",
    "        }},\n",
    "        {\"$project\": {\n",
    "            \"_id\": 0, \n",
    "            \"seller_name\": {\"$first\": \"$sellers.name\"}, \n",
    "            \"products\": \"$product_name\"\n",
    "        }}\n",
    "    ])\n",
    ")\n"
   ]
  },
  {
   "cell_type": "markdown",
   "id": "31b43027",
   "metadata": {},
   "source": [
    "### unionWith"
   ]
  },
  {
   "cell_type": "code",
   "execution_count": 28,
   "id": "9e9a8772",
   "metadata": {},
   "outputs": [
    {
     "name": "stdout",
     "output_type": "stream",
     "text": [
      "{'_id': ObjectId('67e19b0e891479c315f80782'), 'name': 'Mug', 'seller_id': ObjectId('67e19b0e891479c315f8077c'), 'tags': ['Home', 'Kitchen']}\n",
      "\n",
      "{'_id': ObjectId('67e19b0e891479c315f80783'), 'name': 'Moisturizer', 'seller_id': ObjectId('67e19b0e891479c315f8077c'), 'tags': ['Beauty']}\n",
      "\n",
      "{'_id': ObjectId('67e19b0e891479c315f80784'), 'name': 'Pens', 'seller_id': ObjectId('67e19b0e891479c315f8077d'), 'tags': ['Office', 'School']}\n",
      "\n",
      "{'_id': ObjectId('67e19b0e891479c315f80785'), 'name': 'Face Cleanser', 'seller_id': ObjectId('67e19b0e891479c315f8077c'), 'tags': ['Beauty']}\n",
      "\n",
      "{'_id': ObjectId('67e19b0e891479c315f80786'), 'name': 'Concealer Makeup', 'seller_id': ObjectId('67e19b0e891479c315f8077f'), 'tags': ['Beauty']}\n",
      "\n",
      "{'_id': ObjectId('67e19b0e891479c315f80787'), 'name': 'Eyeliner', 'seller_id': ObjectId('67e19b0e891479c315f80780'), 'tags': ['Beauty']}\n",
      "\n",
      "{'_id': ObjectId('67e19b0e891479c315f8077c'), 'name': 'Sarah'}\n",
      "\n",
      "{'_id': ObjectId('67e19b0e891479c315f8077d'), 'name': 'Bob'}\n",
      "\n",
      "{'_id': ObjectId('67e19b0e891479c315f8077e'), 'name': 'Jose'}\n",
      "\n",
      "{'_id': ObjectId('67e19b0e891479c315f8077f'), 'name': 'Lisa'}\n",
      "\n",
      "{'_id': ObjectId('67e19b0e891479c315f80780'), 'name': 'Jessica'}\n",
      "\n",
      "{'_id': ObjectId('67e19b0e891479c315f80781'), 'name': 'Tina'}\n",
      "\n"
     ]
    }
   ],
   "source": [
    "print_cursor(\n",
    "    db.products.aggregate([\n",
    "        {\"$unionWith\": \"users\"}\n",
    "    ])\n",
    ")\n"
   ]
  },
  {
   "cell_type": "code",
   "execution_count": null,
   "id": "4ffd765e",
   "metadata": {},
   "outputs": [],
   "source": []
  },
  {
   "cell_type": "markdown",
   "id": "080332c9",
   "metadata": {},
   "source": [
    "### regexMatch (operator)"
   ]
  },
  {
   "cell_type": "code",
   "execution_count": null,
   "id": "73504e55",
   "metadata": {},
   "outputs": [],
   "source": [
    "user_search = \"is\"\n",
    "print_cursor(\n",
    "    db.products.aggregate([\n",
    "        {\"$unionWith\": \"users\"},\n",
    "        {\"$match\": {\"name\": {\"$regex\": user_search, \"$options\": \"i\"}}}\n",
    "    ])\n",
    ")\n"
   ]
  },
  {
   "cell_type": "markdown",
   "id": "3a51051f",
   "metadata": {},
   "source": [
    "### out\n",
    "*Note: You can potentially overwrite all your data in a collection with this stage, use with caution*"
   ]
  },
  {
   "cell_type": "code",
   "execution_count": 30,
   "id": "f9e82365",
   "metadata": {},
   "outputs": [],
   "source": [
    "print_cursor(\n",
    "    db.products.aggregate([\n",
    "        {\"$match\": {\"tags\": \"Beauty\"}},\n",
    "        {\"$out\": {\"db\": \"aggregate_test\", \"coll\": \"beauty_products\"}}\n",
    "    ])\n",
    ")"
   ]
  },
  {
   "cell_type": "code",
   "execution_count": null,
   "id": "6eba3d51",
   "metadata": {},
   "outputs": [],
   "source": []
  },
  {
   "cell_type": "markdown",
   "id": "fa438464",
   "metadata": {},
   "source": [
    "### merge\n",
    "*Note: You can potentially overwrite data within a collection with this stage, use with caution*"
   ]
  },
  {
   "cell_type": "code",
   "execution_count": 39,
   "id": "0e8ba155",
   "metadata": {},
   "outputs": [],
   "source": [
    "print_cursor(\n",
    "    db.products.aggregate([\n",
    "        {\"$match\": {\"tags\": \"Kitchen\"}},\n",
    "        {\n",
    "            \"$merge\": {\n",
    "                \"into\": {\"db\": \"aggregation_test\", \"coll\": \"beauty_products\"},\n",
    "                \"on\": \"_id\",\n",
    "                \"whenMatched\": \"replace\",\n",
    "                \"whenNotMatched\": \"insert\"\n",
    "            }\n",
    "\n",
    "         }\n",
    "    ])\n",
    ")"
   ]
  },
  {
   "cell_type": "code",
   "execution_count": null,
   "id": "7fa5f383",
   "metadata": {},
   "outputs": [],
   "source": []
  },
  {
   "cell_type": "markdown",
   "id": "f2cbcdc9",
   "metadata": {},
   "source": [
    "### cond (operator)"
   ]
  },
  {
   "cell_type": "code",
   "execution_count": null,
   "id": "7bf94c0a",
   "metadata": {},
   "outputs": [
    {
     "name": "stdout",
     "output_type": "stream",
     "text": [
      "{'name': 'Mug', 'is_bob': 'This is doing something and returning the response 2 and 4'}\n",
      "\n",
      "{'name': 'Moisturizer', 'is_bob': 'This is doing something and returning the response 2 and 4'}\n",
      "\n",
      "{'name': 'Pens', 'is_bob': 'This is doing something and returning the response 2 and 4'}\n",
      "\n",
      "{'name': 'Face Cleanser', 'is_bob': 'This is doing something and returning the response 2 and 4'}\n",
      "\n",
      "{'name': 'Concealer Makeup', 'is_bob': 'This is doing something and returning the response 2 and 4'}\n",
      "\n",
      "{'name': 'Eyeliner', 'is_bob': 'This is doing something and returning the response 2 and 4'}\n",
      "\n"
     ]
    }
   ],
   "source": [
    "def dosomething(param1, param2):\n",
    "    return f\"This is doing something and returning the response {param1} and {param2}\"\n",
    "\n",
    "print_cursor(\n",
    "    db.products.aggregate([\n",
    "        {\"$project\": {\"_id\": 0, \"name\": 1, \"is_bob\": {\n",
    "            \"$cond\": {\"if\": {\"$eq\": [\"$name\", \"Bob\"]}, \"then\": True, \"else\": dosomething(2, 4)}\n",
    "        }}}\n",
    "    ])\n",
    ")"
   ]
  },
  {
   "cell_type": "code",
   "execution_count": 14,
   "id": "b30ffd4f",
   "metadata": {},
   "outputs": [
    {
     "name": "stdout",
     "output_type": "stream",
     "text": [
      "{'name': 'Mug', 'is_beauty_products': False}\n",
      "\n",
      "{'name': 'Moisturizer', 'is_beauty_products': True}\n",
      "\n",
      "{'name': 'Pens', 'is_beauty_products': False}\n",
      "\n",
      "{'name': 'Face Cleanser', 'is_beauty_products': True}\n",
      "\n",
      "{'name': 'Concealer Makeup', 'is_beauty_products': True}\n",
      "\n",
      "{'name': 'Eyeliner', 'is_beauty_products': True}\n",
      "\n"
     ]
    }
   ],
   "source": [
    "print_cursor(\n",
    "    db.products.aggregate([\n",
    "        {\"$project\": {\"_id\": 0, \"name\": 1, \"is_beauty_products\": {\n",
    "            \"$cond\": {\"if\": {\"$in\": [\"Beauty\", \"$tags\"]}, \"then\": True, \"else\": False}\n",
    "        }}}\n",
    "    ])\n",
    ")"
   ]
  },
  {
   "cell_type": "code",
   "execution_count": null,
   "id": "e85540c7",
   "metadata": {},
   "outputs": [],
   "source": []
  },
  {
   "cell_type": "code",
   "execution_count": null,
   "id": "6d0b7fd4",
   "metadata": {},
   "outputs": [],
   "source": []
  },
  {
   "cell_type": "markdown",
   "id": "3f50f1d1",
   "metadata": {},
   "source": [
    "### $$NOW (system variable)"
   ]
  },
  {
   "cell_type": "code",
   "execution_count": 18,
   "id": "e1503df4",
   "metadata": {},
   "outputs": [
    {
     "name": "stdout",
     "output_type": "stream",
     "text": [
      "{'date_joined': datetime.datetime(2025, 3, 30, 10, 19, 3, 913000)}\n",
      "\n"
     ]
    }
   ],
   "source": [
    "print_cursor(\n",
    "    db.products.aggregate([\n",
    "        {\"$match\": {\"name\": \"Mug\"}},\n",
    "        {\"$project\": {\"_id\": 0, \"date_joined\": \"$$NOW\"}}\n",
    "    ])\n",
    ")"
   ]
  },
  {
   "cell_type": "code",
   "execution_count": 20,
   "id": "bd4fd757",
   "metadata": {},
   "outputs": [
    {
     "name": "stdout",
     "output_type": "stream",
     "text": [
      "{'name': 'Mug', 'premium_exp_date': datetime.datetime(2025, 4, 6, 10, 22, 37, 489000)}\n",
      "\n"
     ]
    }
   ],
   "source": [
    "print_cursor(\n",
    "    db.products.aggregate([\n",
    "        {\"$match\": {\"name\": \"Mug\"}},\n",
    "        {\"$addFields\": {\"date_joined\": \"$$NOW\"}},\n",
    "        {\"$project\": {\"_id\": 0, \"name\": 1, \"premium_exp_date\": {\n",
    "            \"$dateAdd\": {\"startDate\": \"$date_joined\", \"unit\": \"day\", \"amount\": 7}\n",
    "        }}}\n",
    "    ])\n",
    ")"
   ]
  },
  {
   "cell_type": "code",
   "execution_count": null,
   "id": "1e479fd2",
   "metadata": {},
   "outputs": [
    {
     "name": "stdout",
     "output_type": "stream",
     "text": [
      "{'name': 'Mug', 'date_joined': datetime.datetime(2025, 3, 30, 15, 23, 11, 432000), 'premium_exp_date': datetime.datetime(2025, 4, 13, 15, 23, 11, 432000), 'premium_days_left': 14}\n",
      "\n"
     ]
    }
   ],
   "source": [
    "print_cursor(\n",
    "    db.products.aggregate([\n",
    "        # Match products with the name \"Mug\"\n",
    "        {\"$match\": {\"name\": \"Mug\"}},\n",
    "        # Add the current date/time as \"date_joined\"\n",
    "        {\"$addFields\": {\"date_joined\": {\"$toDate\": \"$$NOW\"}}},\n",
    "        # Project the required fields and calculate \"premium_exp_date\"\n",
    "        {\n",
    "            \"$project\": {\n",
    "                \"_id\": 0, \"name\": 1, \"date_joined\": 1, \"premium_exp_date\": {\n",
    "                    \"$dateAdd\": {\n",
    "                        \"startDate\": \"$date_joined\", \"unit\": \"week\", \"amount\": 2\n",
    "                    }\n",
    "                }\n",
    "            }\n",
    "        },\n",
    "        # Add \"premium_days_left\" by calculating the difference in days\n",
    "        {\n",
    "            \"$addFields\": {\n",
    "                \"premium_days_left\": {\n",
    "                    \"$dateDiff\": {\n",
    "                        \"startDate\": \"$date_joined\", \"endDate\": \"$premium_exp_date\", \"unit\": \"day\"\n",
    "                    }\n",
    "                }\n",
    "            }\n",
    "        }\n",
    "    ])\n",
    ")\n"
   ]
  },
  {
   "cell_type": "markdown",
   "id": "a4513e17",
   "metadata": {},
   "source": [
    "### Date Operators"
   ]
  },
  {
   "cell_type": "code",
   "execution_count": null,
   "id": "feaa7da2",
   "metadata": {},
   "outputs": [],
   "source": []
  },
  {
   "cell_type": "code",
   "execution_count": 23,
   "id": "38fd8728",
   "metadata": {},
   "outputs": [
    {
     "name": "stdout",
     "output_type": "stream",
     "text": [
      "{'name': 'Mug', 'date_joined_parts': {'year': 2025, 'month': 3, 'day': 30, 'hour': 15, 'minute': 25, 'second': 17, 'millisecond': 474}}\n",
      "\n"
     ]
    }
   ],
   "source": [
    "print_cursor(\n",
    "    db.products.aggregate([\n",
    "        {\"$match\": {\"name\": \"Mug\"}},\n",
    "        {\"$addFields\": {\"date_joined\": \"$$NOW\"}},\n",
    "        {\"$project\": {\"_id\": 0, \"name\": 1, \"date_joined_parts\": {\n",
    "            \"$dateToParts\": {\"date\": \"$date_joined\"}\n",
    "        }}} \n",
    "    ])\n",
    ")"
   ]
  },
  {
   "cell_type": "code",
   "execution_count": null,
   "id": "7030d6a9",
   "metadata": {},
   "outputs": [],
   "source": []
  },
  {
   "cell_type": "code",
   "execution_count": null,
   "id": "87c06393",
   "metadata": {},
   "outputs": [],
   "source": []
  },
  {
   "cell_type": "code",
   "execution_count": null,
   "id": "a2339adf",
   "metadata": {},
   "outputs": [],
   "source": []
  },
  {
   "cell_type": "code",
   "execution_count": null,
   "id": "708938c8",
   "metadata": {},
   "outputs": [],
   "source": []
  },
  {
   "cell_type": "code",
   "execution_count": null,
   "id": "f3945b91",
   "metadata": {},
   "outputs": [],
   "source": []
  },
  {
   "cell_type": "code",
   "execution_count": null,
   "id": "6a31039d",
   "metadata": {},
   "outputs": [],
   "source": []
  },
  {
   "cell_type": "markdown",
   "id": "531bc8cf",
   "metadata": {},
   "source": [
    "### expr (operator)"
   ]
  },
  {
   "cell_type": "code",
   "execution_count": null,
   "id": "66a80fd7",
   "metadata": {},
   "outputs": [
    {
     "name": "stdout",
     "output_type": "stream",
     "text": [
      "{'name': 'Mug', 'date_joined': datetime.datetime(2025, 3, 30, 15, 28, 40, 186000), 'premium_exp_date': datetime.datetime(2025, 5, 18, 15, 28, 40, 186000), 'premium_days_left': 49}\n",
      "\n"
     ]
    }
   ],
   "source": [
    "print_cursor(\n",
    "    db.products.aggregate([\n",
    "        # Match products with the name \"Mug\"\n",
    "        {\"$match\": {\"name\": \"Mug\"}},\n",
    "        # Add the current date/time as \"date_joined\"\n",
    "        {\"$addFields\": {\"date_joined\": {\"$toDate\": \"$$NOW\"}}},\n",
    "        # Project the required fields and calculate \"premium_exp_date\"\n",
    "        {\n",
    "            \"$project\": {\n",
    "                \"_id\": 0, \"name\": 1, \"date_joined\": 1, \"premium_exp_date\": {\n",
    "                    \"$dateAdd\": {\n",
    "                        \"startDate\": \"$date_joined\", \"unit\": \"week\", \"amount\": 7\n",
    "                    }\n",
    "                }\n",
    "            }\n",
    "        },\n",
    "        # Add \"premium_days_left\" by calculating the difference in days\n",
    "        {\n",
    "            \"$addFields\": {\n",
    "                \"premium_days_left\": {\n",
    "                    \"$dateDiff\": {\"startDate\": \"$date_joined\", \"endDate\": \"$premium_exp_date\", \"unit\": \"day\"}\n",
    "                }\n",
    "            }\n",
    "        },\n",
    "        {\"$match\": {\"premium_days_left\": {\"$gt\": 10}}}\n",
    "    ])\n",
    ")"
   ]
  },
  {
   "cell_type": "code",
   "execution_count": null,
   "id": "1cb2d077",
   "metadata": {},
   "outputs": [
    {
     "name": "stdout",
     "output_type": "stream",
     "text": [
      "{'name': 'Mug', 'date_joined': datetime.datetime(2025, 3, 30, 15, 30, 6, 633000), 'premium_exp_date': datetime.datetime(2025, 5, 18, 15, 30, 6, 633000)}\n",
      "\n"
     ]
    }
   ],
   "source": [
    "print_cursor(\n",
    "    db.products.aggregate([\n",
    "        {\"$match\": {\"name\": \"Mug\"}},\n",
    "        {\"$addFields\": {\"date_joined\": {\"$toDate\": \"$$NOW\"}}},\n",
    "        {\n",
    "            \"$project\": {\n",
    "                \"_id\": 0, \"name\": 1, \"date_joined\": 1, \"premium_exp_date\": {\n",
    "                    \"$dateAdd\": {\"startDate\": \"$date_joined\", \"unit\": \"week\", \"amount\": 7}\n",
    "                }\n",
    "            }\n",
    "        },\n",
    "        {\"$match\": {\"$expr\": {\"$gt\": [{\"$dateDiff\": {\"startDate\": \"$date_joined\", \"endDate\": \"$premium_exp_date\", \"unit\": \"day\"}}, 10]}}}\n",
    "    ])\n",
    ")"
   ]
  },
  {
   "cell_type": "code",
   "execution_count": null,
   "id": "abb386e4",
   "metadata": {},
   "outputs": [],
   "source": []
  },
  {
   "cell_type": "code",
   "execution_count": null,
   "id": "2a114bfb",
   "metadata": {},
   "outputs": [],
   "source": []
  },
  {
   "cell_type": "markdown",
   "id": "f46023d4",
   "metadata": {},
   "source": [
    "### ifNull (operator)"
   ]
  },
  {
   "cell_type": "code",
   "execution_count": 28,
   "id": "ea89b41e",
   "metadata": {},
   "outputs": [
    {
     "name": "stdout",
     "output_type": "stream",
     "text": [
      "{'name': 'Mug'}\n",
      "\n",
      "{'name': 'Moisturizer'}\n",
      "\n",
      "{'name': 'Pens'}\n",
      "\n",
      "{'name': 'Face Cleanser'}\n",
      "\n",
      "{'name': 'Concealer Makeup'}\n",
      "\n",
      "{'name': 'Eyeliner'}\n",
      "\n"
     ]
    }
   ],
   "source": [
    "print_cursor(\n",
    "    db.products.aggregate([\n",
    "        {\"$project\": {\"_id\": 0, \"name\": 1, \"premium_exp_page\": 1}}\n",
    "    ])\n",
    ")"
   ]
  },
  {
   "cell_type": "code",
   "execution_count": 29,
   "id": "0e72e154",
   "metadata": {},
   "outputs": [
    {
     "name": "stdout",
     "output_type": "stream",
     "text": [
      "{'name': 'Mug', 'has_premium_exp_page': False}\n",
      "\n",
      "{'name': 'Moisturizer', 'has_premium_exp_page': False}\n",
      "\n",
      "{'name': 'Pens', 'has_premium_exp_page': False}\n",
      "\n",
      "{'name': 'Face Cleanser', 'has_premium_exp_page': False}\n",
      "\n",
      "{'name': 'Concealer Makeup', 'has_premium_exp_page': False}\n",
      "\n",
      "{'name': 'Eyeliner', 'has_premium_exp_page': False}\n",
      "\n"
     ]
    }
   ],
   "source": [
    "print_cursor(\n",
    "    db.products.aggregate([\n",
    "        {\"$project\": {\"_id\": 0, \"name\": 1, \"has_premium_exp_page\": {\n",
    "            \"$ifNull\": [\"$premium_exp_page\", False]\n",
    "        }}}\n",
    "    ])\n",
    ")"
   ]
  },
  {
   "cell_type": "markdown",
   "id": "a0d8b6f5",
   "metadata": {},
   "source": [
    "### type (operator)"
   ]
  },
  {
   "cell_type": "code",
   "execution_count": 30,
   "id": "95ba1775",
   "metadata": {},
   "outputs": [
    {
     "name": "stdout",
     "output_type": "stream",
     "text": [
      "{'name': 'Mug', 'name_type': 'string'}\n",
      "\n",
      "{'name': 'Moisturizer', 'name_type': 'string'}\n",
      "\n",
      "{'name': 'Pens', 'name_type': 'string'}\n",
      "\n",
      "{'name': 'Face Cleanser', 'name_type': 'string'}\n",
      "\n",
      "{'name': 'Concealer Makeup', 'name_type': 'string'}\n",
      "\n",
      "{'name': 'Eyeliner', 'name_type': 'string'}\n",
      "\n"
     ]
    }
   ],
   "source": [
    "print_cursor(db.products.aggregate([\n",
    "    {\"$project\": {\"_id\": 0, \"name\": 1, \"name_type\": {\"$type\": \"$name\"}}}\n",
    "]))"
   ]
  },
  {
   "cell_type": "code",
   "execution_count": null,
   "id": "4fa81cf2",
   "metadata": {},
   "outputs": [],
   "source": []
  },
  {
   "cell_type": "markdown",
   "id": "c2dd1e66",
   "metadata": {},
   "source": [
    "### switch (operator)"
   ]
  },
  {
   "cell_type": "code",
   "execution_count": 35,
   "id": "07698a22",
   "metadata": {},
   "outputs": [
    {
     "name": "stdout",
     "output_type": "stream",
     "text": [
      "{'name': 'Mug', 'user_account_error': 'Missing Premium Exp Date'}\n",
      "\n",
      "{'name': 'Moisturizer', 'user_account_error': 'Missing Premium Exp Date'}\n",
      "\n",
      "{'name': 'Pens', 'user_account_error': 'Missing Premium Exp Date'}\n",
      "\n",
      "{'name': 'Face Cleanser', 'user_account_error': 'Missing Premium Exp Date'}\n",
      "\n",
      "{'name': 'Concealer Makeup', 'user_account_error': 'Missing Premium Exp Date'}\n",
      "\n",
      "{'name': 'Eyeliner', 'user_account_error': 'Missing Premium Exp Date'}\n",
      "\n"
     ]
    }
   ],
   "source": [
    "print_cursor(db.products.aggregate([\n",
    "    {\"$project\": {\"_id\": 0, \"name\": 1, \"user_account_error\": {\n",
    "        \"$switch\": {\n",
    "            \"branches\": [\n",
    "                {\"case\": {\"$eq\": [{\"$type\": \"$name\"}, \"missing\"]}, \"then\": \"Missing Name\"},\n",
    "                {\"case\": {\"$eq\": [{\"$type\": \"$premium_exp_date\"}, \"missing\"]}, \"then\": \"Missing Premium Exp Date\"}, \n",
    "                {\"case\": {\"$lt\": [\"premium_exp_date\", \"$$NOW\"]}, \"then\": \"Date Expired\"}\n",
    "            ]\n",
    "        }\n",
    "    }}}\n",
    "]))"
   ]
  },
  {
   "cell_type": "code",
   "execution_count": null,
   "id": "3e703220",
   "metadata": {},
   "outputs": [],
   "source": []
  },
  {
   "cell_type": "code",
   "execution_count": null,
   "id": "36be23fc",
   "metadata": {},
   "outputs": [],
   "source": []
  },
  {
   "cell_type": "code",
   "execution_count": null,
   "id": "0c4c36da",
   "metadata": {},
   "outputs": [],
   "source": []
  },
  {
   "cell_type": "code",
   "execution_count": null,
   "id": "87ea9da8",
   "metadata": {},
   "outputs": [],
   "source": []
  }
 ],
 "metadata": {
  "kernelspec": {
   "display_name": "myenv",
   "language": "python",
   "name": "python3"
  },
  "language_info": {
   "codemirror_mode": {
    "name": "ipython",
    "version": 3
   },
   "file_extension": ".py",
   "mimetype": "text/x-python",
   "name": "python",
   "nbconvert_exporter": "python",
   "pygments_lexer": "ipython3",
   "version": "3.9.21"
  }
 },
 "nbformat": 4,
 "nbformat_minor": 5
}
