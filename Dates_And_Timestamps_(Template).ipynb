{
 "cells": [
  {
   "cell_type": "markdown",
   "id": "ce5184d2",
   "metadata": {},
   "source": [
    "# Working With Dates And Timestamps To Use With MongoDB\n",
    "\n",
    "Go over ways to have your MongoDB entries reflect date and time"
   ]
  },
  {
   "cell_type": "code",
   "execution_count": 3,
   "id": "d16e794b",
   "metadata": {},
   "outputs": [],
   "source": [
    "import bson\n",
    "import time\n",
    "import pytz\n",
    "from datetime import datetime, timedelta\n",
    "\n",
    "from pymongo import MongoClient"
   ]
  },
  {
   "cell_type": "markdown",
   "id": "ce5864f7",
   "metadata": {},
   "source": [
    "### Initalize A Client, Connect To DB, Speicfy Collection"
   ]
  },
  {
   "cell_type": "code",
   "execution_count": 4,
   "id": "f78d3ae2",
   "metadata": {},
   "outputs": [],
   "source": [
    "client = MongoClient(\"mongodb://localhost:27017/\")\n",
    "db = client[\"my_store\"]\n",
    "users_col = db[\"users\"]"
   ]
  },
  {
   "cell_type": "markdown",
   "id": "f9dba5f9",
   "metadata": {},
   "source": [
    "### Looking at timestamp and datetime objects"
   ]
  },
  {
   "cell_type": "code",
   "execution_count": 6,
   "id": "ddf3d992",
   "metadata": {},
   "outputs": [
    {
     "data": {
      "text/plain": [
       "InsertOneResult(ObjectId('67e003103d92e16966fdb1a8'), acknowledged=True)"
      ]
     },
     "execution_count": 6,
     "metadata": {},
     "output_type": "execute_result"
    }
   ],
   "source": [
    "users_col.insert_one({\n",
    "    \"name\": \"Ethan\",\n",
    "    \"join_date_utc\": datetime.utcnow(),\n",
    "    \"join_timestamp\": time.time() + time.timezone,\n",
    "    \"subscription_end_date_utc\": datetime.utcnow() + timedelta(days=31) \n",
    "})"
   ]
  },
  {
   "cell_type": "code",
   "execution_count": 10,
   "id": "aaee2bad",
   "metadata": {},
   "outputs": [
    {
     "data": {
      "text/plain": [
       "{'_id': ObjectId('67e003103d92e16966fdb1a8'),\n",
       " 'name': 'Ethan',\n",
       " 'join_date_utc': datetime.datetime(2025, 3, 23, 12, 48, 16, 837000),\n",
       " 'join_timestamp': 1742716096.8378646,\n",
       " 'subscription_end_date_utc': datetime.datetime(2025, 4, 23, 12, 48, 16, 837000)}"
      ]
     },
     "execution_count": 10,
     "metadata": {},
     "output_type": "execute_result"
    }
   ],
   "source": [
    "users_col.find_one({\"join_date_utc\": {\"$gt\": datetime(2000, 1, 1)}})"
   ]
  },
  {
   "cell_type": "code",
   "execution_count": 13,
   "id": "429d4136",
   "metadata": {},
   "outputs": [
    {
     "data": {
      "text/plain": [
       "InsertOneResult(ObjectId('67e007c53d92e16966fdb1a9'), acknowledged=True)"
      ]
     },
     "execution_count": 13,
     "metadata": {},
     "output_type": "execute_result"
    }
   ],
   "source": [
    "users_col.insert_one({\n",
    "    \"name\": \"Frank\",\n",
    "    \"join_date_utc\": datetime.utcnow(),\n",
    "    \"join_timestamp\": bson.Timestamp(int(time.time()), 1),\n",
    "    \"subscription_end_date_utc\": datetime.utcnow() + timedelta(days=31) \n",
    "})"
   ]
  },
  {
   "cell_type": "code",
   "execution_count": 19,
   "id": "ab046c7b",
   "metadata": {},
   "outputs": [
    {
     "data": {
      "text/plain": [
       "1742735301"
      ]
     },
     "execution_count": 19,
     "metadata": {},
     "output_type": "execute_result"
    }
   ],
   "source": [
    "users_col.find_one({\"name\": \"Frank\"})[\"join_timestamp\"].time"
   ]
  },
  {
   "cell_type": "code",
   "execution_count": 14,
   "id": "77ed7a42",
   "metadata": {},
   "outputs": [
    {
     "name": "stdout",
     "output_type": "stream",
     "text": [
      "2025-03-23 22:32:30.727189\n",
      "2025-03-23 17:32:30.727681\n",
      "-18000\n",
      "2025-03-23 22:32:30.727681\n",
      "2025-03-23 17:32:30.727681\n"
     ]
    }
   ],
   "source": [
    "import datetime\n",
    "import time\n",
    "print(datetime.datetime.now())\n",
    "print(datetime.datetime.utcnow())\n",
    "print(time.timezone)\n",
    "print(datetime.datetime.fromtimestamp(time.time()))\n",
    "print(datetime.datetime.fromtimestamp(time.time() + time.timezone))"
   ]
  },
  {
   "cell_type": "markdown",
   "id": "2ddd1635",
   "metadata": {},
   "source": [
    "### UTC time"
   ]
  },
  {
   "cell_type": "code",
   "execution_count": null,
   "id": "a66015ac",
   "metadata": {},
   "outputs": [],
   "source": []
  },
  {
   "cell_type": "code",
   "execution_count": null,
   "id": "6190a1df",
   "metadata": {},
   "outputs": [],
   "source": []
  },
  {
   "cell_type": "markdown",
   "id": "c84f66a9",
   "metadata": {},
   "source": [
    "### Inserting datetime and timestemp entries"
   ]
  },
  {
   "cell_type": "code",
   "execution_count": null,
   "id": "29a76453",
   "metadata": {},
   "outputs": [],
   "source": []
  },
  {
   "cell_type": "markdown",
   "id": "36045c77",
   "metadata": {},
   "source": [
    "### Querying and comparing datetime entries from MongoDB"
   ]
  },
  {
   "cell_type": "code",
   "execution_count": null,
   "id": "f563fb40",
   "metadata": {},
   "outputs": [],
   "source": []
  },
  {
   "cell_type": "code",
   "execution_count": null,
   "id": "358b4a04",
   "metadata": {},
   "outputs": [],
   "source": []
  },
  {
   "cell_type": "code",
   "execution_count": null,
   "id": "f5a70ea2",
   "metadata": {},
   "outputs": [],
   "source": []
  },
  {
   "cell_type": "markdown",
   "id": "88e60cb2",
   "metadata": {},
   "source": [
    "### Manually specifying BSON Timestamp"
   ]
  },
  {
   "cell_type": "code",
   "execution_count": null,
   "id": "f9814196",
   "metadata": {},
   "outputs": [],
   "source": []
  },
  {
   "cell_type": "code",
   "execution_count": null,
   "id": "b736dcec",
   "metadata": {},
   "outputs": [],
   "source": []
  },
  {
   "cell_type": "code",
   "execution_count": null,
   "id": "3c4f57f3",
   "metadata": {},
   "outputs": [],
   "source": []
  },
  {
   "cell_type": "code",
   "execution_count": null,
   "id": "2e552c19",
   "metadata": {},
   "outputs": [],
   "source": []
  },
  {
   "cell_type": "markdown",
   "id": "abba0de3",
   "metadata": {},
   "source": [
    "### Converting UTC to local timezone "
   ]
  },
  {
   "cell_type": "code",
   "execution_count": null,
   "id": "b7465503",
   "metadata": {},
   "outputs": [],
   "source": []
  },
  {
   "cell_type": "code",
   "execution_count": null,
   "id": "8e656dc0",
   "metadata": {},
   "outputs": [],
   "source": []
  },
  {
   "cell_type": "code",
   "execution_count": null,
   "id": "a5e9cba6",
   "metadata": {},
   "outputs": [],
   "source": []
  },
  {
   "cell_type": "code",
   "execution_count": null,
   "id": "a14905a6",
   "metadata": {},
   "outputs": [],
   "source": []
  }
 ],
 "metadata": {
  "kernelspec": {
   "display_name": "myenv",
   "language": "python",
   "name": "python3"
  },
  "language_info": {
   "codemirror_mode": {
    "name": "ipython",
    "version": 3
   },
   "file_extension": ".py",
   "mimetype": "text/x-python",
   "name": "python",
   "nbconvert_exporter": "python",
   "pygments_lexer": "ipython3",
   "version": "3.9.21"
  }
 },
 "nbformat": 4,
 "nbformat_minor": 5
}
