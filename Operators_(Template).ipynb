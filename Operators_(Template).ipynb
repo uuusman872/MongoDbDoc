{
 "cells": [
  {
   "cell_type": "markdown",
   "id": "3dc5cae0",
   "metadata": {},
   "source": [
    "# MongoDB Operators\n",
    "\n",
    "Go over the usage of common operators within pymongo queries"
   ]
  },
  {
   "cell_type": "code",
   "execution_count": 1,
   "id": "0c683e75",
   "metadata": {},
   "outputs": [],
   "source": [
    "import pymongo\n",
    "from pymongo import MongoClient"
   ]
  },
  {
   "cell_type": "markdown",
   "id": "5fd1cbd3",
   "metadata": {},
   "source": [
    "### Initalize A Client, Connect To DB, Speicfy Collection"
   ]
  },
  {
   "cell_type": "code",
   "execution_count": 2,
   "id": "2671ea67",
   "metadata": {},
   "outputs": [],
   "source": [
    "client = MongoClient(\"mongodb://localhost:27017/\")\n",
    "db = client[\"my_store\"]\n",
    "products_col = db[\"products\"]"
   ]
  },
  {
   "cell_type": "code",
   "execution_count": 6,
   "id": "04ce676e",
   "metadata": {},
   "outputs": [
    {
     "data": {
      "text/plain": [
       "InsertManyResult([ObjectId('67dfe5235d99446a25d0586a'), ObjectId('67dfe5235d99446a25d0586b'), ObjectId('67dfe5235d99446a25d0586c'), ObjectId('67dfe5235d99446a25d0586d'), ObjectId('67dfe5235d99446a25d0586e'), ObjectId('67dfe5235d99446a25d0586f'), ObjectId('67dfe5235d99446a25d05870'), ObjectId('67dfe5235d99446a25d05871'), ObjectId('67dfe5235d99446a25d05872'), ObjectId('67dfe5235d99446a25d05873')], acknowledged=True)"
      ]
     },
     "execution_count": 6,
     "metadata": {},
     "output_type": "execute_result"
    }
   ],
   "source": [
    "products_col.insert_many([\n",
    "  { \"name\": \"Product A\", \"price\": 12.5 },\n",
    "  { \"name\": \"Product B\", \"price\": 20.4 },\n",
    "  { \"name\": \"Product C\", \"price\": 15.8 },\n",
    "  { \"name\": \"Product D\", \"price\": 30.0 },\n",
    "  { \"name\": \"Product E\", \"price\": 25.5 },\n",
    "  { \"name\": \"Product F\", \"price\": 18.2 },\n",
    "  { \"name\": \"Product G\", \"price\": 22.9 },\n",
    "  { \"name\": \"Product H\", \"price\": 14.7 },\n",
    "  { \"name\": \"Product I\", \"price\": 27.3 },\n",
    "  { \"name\": \"Product J\", \"price\": 19.6 }\n",
    "]\n",
    ")"
   ]
  },
  {
   "cell_type": "markdown",
   "id": "0e1c6bd0",
   "metadata": {},
   "source": [
    "### Helper Function to print all entries in a cursor"
   ]
  },
  {
   "cell_type": "code",
   "execution_count": 3,
   "id": "2112912d",
   "metadata": {},
   "outputs": [],
   "source": [
    "def print_cursor(cursor):\n",
    "    for document in cursor:\n",
    "        print(document)"
   ]
  },
  {
   "cell_type": "markdown",
   "id": "722f39ae",
   "metadata": {},
   "source": [
    "### Comparison Operators"
   ]
  },
  {
   "cell_type": "markdown",
   "id": "6cf43416",
   "metadata": {},
   "source": [
    "###### $lt - Less Than"
   ]
  },
  {
   "cell_type": "code",
   "execution_count": 7,
   "id": "4e6b4f49",
   "metadata": {},
   "outputs": [
    {
     "name": "stdout",
     "output_type": "stream",
     "text": [
      "{'_id': ObjectId('67dfe5235d99446a25d0586a'), 'name': 'Product A', 'price': 12.5}\n",
      "{'_id': ObjectId('67dfe5235d99446a25d0586c'), 'name': 'Product C', 'price': 15.8}\n",
      "{'_id': ObjectId('67dfe5235d99446a25d0586f'), 'name': 'Product F', 'price': 18.2}\n",
      "{'_id': ObjectId('67dfe5235d99446a25d05871'), 'name': 'Product H', 'price': 14.7}\n",
      "{'_id': ObjectId('67dfe5235d99446a25d05873'), 'name': 'Product J', 'price': 19.6}\n"
     ]
    }
   ],
   "source": [
    "cursor = products_col.find({\"price\": {\"$lt\": 20}})\n",
    "print_cursor(cursor)"
   ]
  },
  {
   "cell_type": "markdown",
   "id": "de88b1cc",
   "metadata": {},
   "source": [
    "###### $gte - Greater Than or Equal To (combined with another operator)"
   ]
  },
  {
   "cell_type": "code",
   "execution_count": 9,
   "id": "a19644da",
   "metadata": {},
   "outputs": [
    {
     "name": "stdout",
     "output_type": "stream",
     "text": [
      "{'_id': ObjectId('67dfe5235d99446a25d0586b'), 'name': 'Product B', 'price': 20.4}\n",
      "{'_id': ObjectId('67dfe5235d99446a25d0586d'), 'name': 'Product D', 'price': 30.0}\n",
      "{'_id': ObjectId('67dfe5235d99446a25d0586e'), 'name': 'Product E', 'price': 25.5}\n",
      "{'_id': ObjectId('67dfe5235d99446a25d05870'), 'name': 'Product G', 'price': 22.9}\n",
      "{'_id': ObjectId('67dfe5235d99446a25d05872'), 'name': 'Product I', 'price': 27.3}\n"
     ]
    }
   ],
   "source": [
    "cursor = products_col.find({\"price\": {\"$gte\": 20}})\n",
    "print_cursor(cursor)"
   ]
  },
  {
   "cell_type": "markdown",
   "id": "9171a17c",
   "metadata": {},
   "source": [
    "###### $ne - Not Equal To (combined with another operator)"
   ]
  },
  {
   "cell_type": "code",
   "execution_count": 11,
   "id": "088877c5",
   "metadata": {},
   "outputs": [
    {
     "name": "stdout",
     "output_type": "stream",
     "text": [
      "{'_id': ObjectId('67dfe5235d99446a25d0586b'), 'name': 'Product B', 'price': 20.4}\n",
      "{'_id': ObjectId('67dfe5235d99446a25d0586c'), 'name': 'Product C', 'price': 15.8}\n",
      "{'_id': ObjectId('67dfe5235d99446a25d0586d'), 'name': 'Product D', 'price': 30.0}\n",
      "{'_id': ObjectId('67dfe5235d99446a25d0586e'), 'name': 'Product E', 'price': 25.5}\n",
      "{'_id': ObjectId('67dfe5235d99446a25d0586f'), 'name': 'Product F', 'price': 18.2}\n",
      "{'_id': ObjectId('67dfe5235d99446a25d05870'), 'name': 'Product G', 'price': 22.9}\n",
      "{'_id': ObjectId('67dfe5235d99446a25d05871'), 'name': 'Product H', 'price': 14.7}\n",
      "{'_id': ObjectId('67dfe5235d99446a25d05872'), 'name': 'Product I', 'price': 27.3}\n",
      "{'_id': ObjectId('67dfe5235d99446a25d05873'), 'name': 'Product J', 'price': 19.6}\n"
     ]
    }
   ],
   "source": [
    "cursor = products_col.find({\"name\": {\"$ne\": \"Product A\"}})\n",
    "print_cursor(cursor)"
   ]
  },
  {
   "cell_type": "markdown",
   "id": "d1d17085",
   "metadata": {},
   "source": [
    "### Logical Operators"
   ]
  },
  {
   "cell_type": "markdown",
   "id": "519965f4",
   "metadata": {},
   "source": [
    "##### $and"
   ]
  },
  {
   "cell_type": "code",
   "execution_count": 17,
   "id": "e6ada04a",
   "metadata": {},
   "outputs": [
    {
     "name": "stdout",
     "output_type": "stream",
     "text": [
      "{'_id': ObjectId('67dfe5235d99446a25d0586b'), 'name': 'Product B', 'price': 20.4}\n",
      "{'_id': ObjectId('67dfe5235d99446a25d0586d'), 'name': 'Product D', 'price': 30.0}\n",
      "{'_id': ObjectId('67dfe5235d99446a25d0586e'), 'name': 'Product E', 'price': 25.5}\n",
      "{'_id': ObjectId('67dfe5235d99446a25d05870'), 'name': 'Product G', 'price': 22.9}\n",
      "{'_id': ObjectId('67dfe5235d99446a25d05872'), 'name': 'Product I', 'price': 27.3}\n"
     ]
    }
   ],
   "source": [
    "cursor = products_col.find({\n",
    "    \"$and\": [\n",
    "        {\"price\": {\"$gt\": 20}},\n",
    "        {\"name\": {\"$ne\": \"pen\"}}\n",
    "    ]\n",
    "})\n",
    "print_cursor(cursor)"
   ]
  },
  {
   "cell_type": "markdown",
   "id": "4f4dcd05",
   "metadata": {},
   "source": [
    "###### $or"
   ]
  },
  {
   "cell_type": "code",
   "execution_count": 18,
   "id": "75843aa5",
   "metadata": {},
   "outputs": [
    {
     "name": "stdout",
     "output_type": "stream",
     "text": [
      "{'_id': ObjectId('67dfe5235d99446a25d0586b'), 'name': 'Product B', 'price': 20.4}\n",
      "{'_id': ObjectId('67dfe5235d99446a25d0586d'), 'name': 'Product D', 'price': 30.0}\n",
      "{'_id': ObjectId('67dfe5235d99446a25d0586e'), 'name': 'Product E', 'price': 25.5}\n",
      "{'_id': ObjectId('67dfe5235d99446a25d05870'), 'name': 'Product G', 'price': 22.9}\n",
      "{'_id': ObjectId('67dfe5235d99446a25d05872'), 'name': 'Product I', 'price': 27.3}\n"
     ]
    }
   ],
   "source": [
    "cursor = products_col.find({\n",
    "    \"$or\": [\n",
    "        {\"price\": {\"$gt\": 20}},\n",
    "        {\"name\": {\"$lt\": 15}}\n",
    "    ]\n",
    "})\n",
    "print_cursor(cursor)"
   ]
  },
  {
   "cell_type": "markdown",
   "id": "6ff7f1b7",
   "metadata": {},
   "source": [
    "###### $nor"
   ]
  },
  {
   "cell_type": "code",
   "execution_count": 20,
   "id": "e98ddcac",
   "metadata": {},
   "outputs": [
    {
     "name": "stdout",
     "output_type": "stream",
     "text": [
      "{'_id': ObjectId('67dfe5235d99446a25d0586a'), 'name': 'Product A', 'price': 12.5}\n",
      "{'_id': ObjectId('67dfe5235d99446a25d0586c'), 'name': 'Product C', 'price': 15.8}\n",
      "{'_id': ObjectId('67dfe5235d99446a25d0586f'), 'name': 'Product F', 'price': 18.2}\n",
      "{'_id': ObjectId('67dfe5235d99446a25d05871'), 'name': 'Product H', 'price': 14.7}\n",
      "{'_id': ObjectId('67dfe5235d99446a25d05873'), 'name': 'Product J', 'price': 19.6}\n"
     ]
    }
   ],
   "source": [
    "cursor = products_col.find({\n",
    "    \"$nor\": [\n",
    "        {\"price\": {\"$gt\": 20}},\n",
    "        {\"name\": {\"$lt\": 15}}\n",
    "    ]\n",
    "})\n",
    "print_cursor(cursor)"
   ]
  },
  {
   "cell_type": "markdown",
   "id": "889ab4dc",
   "metadata": {},
   "source": [
    "###### $type"
   ]
  },
  {
   "cell_type": "code",
   "execution_count": 23,
   "id": "b180fc9c",
   "metadata": {},
   "outputs": [],
   "source": [
    "cursor = products_col.find({\n",
    "    \"price\": {\"$type\": \"int\"}\n",
    "})\n",
    "print_cursor(cursor)"
   ]
  },
  {
   "cell_type": "markdown",
   "id": "63be37d8",
   "metadata": {},
   "source": [
    "### Other Useful Operators"
   ]
  },
  {
   "cell_type": "markdown",
   "id": "365bcbf5",
   "metadata": {},
   "source": [
    "###### $exists - Check if a attribute name exists in entries"
   ]
  },
  {
   "cell_type": "code",
   "execution_count": 25,
   "id": "d88290c3",
   "metadata": {},
   "outputs": [],
   "source": [
    "cursor = products_col.find({\n",
    "    \"seller\": {\"$exists\": True}\n",
    "})\n",
    "print_cursor(cursor)"
   ]
  },
  {
   "cell_type": "markdown",
   "id": "66c134aa",
   "metadata": {},
   "source": [
    "#####  $regex - Search for substring within query entries"
   ]
  },
  {
   "cell_type": "code",
   "execution_count": null,
   "id": "d84cae79",
   "metadata": {},
   "outputs": [],
   "source": []
  },
  {
   "cell_type": "code",
   "execution_count": null,
   "id": "a69852a8",
   "metadata": {},
   "outputs": [],
   "source": []
  }
 ],
 "metadata": {
  "kernelspec": {
   "display_name": "myenv",
   "language": "python",
   "name": "python3"
  },
  "language_info": {
   "codemirror_mode": {
    "name": "ipython",
    "version": 3
   },
   "file_extension": ".py",
   "mimetype": "text/x-python",
   "name": "python",
   "nbconvert_exporter": "python",
   "pygments_lexer": "ipython3",
   "version": "3.9.21"
  }
 },
 "nbformat": 4,
 "nbformat_minor": 5
}
