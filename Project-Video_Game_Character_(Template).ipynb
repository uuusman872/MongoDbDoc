{
 "cells": [
  {
   "cell_type": "markdown",
   "id": "52c75cab",
   "metadata": {},
   "source": [
    "## Video Game Character Project\n",
    "#### Part I:\n",
    "Apply what you have learned in the previous lectures to insert and find data related to your own video game characters within your MongoDB database."
   ]
  },
  {
   "cell_type": "markdown",
   "id": "ded8a6c6",
   "metadata": {},
   "source": [
    "#### Import Dependencies"
   ]
  },
  {
   "cell_type": "code",
   "execution_count": 3,
   "id": "5cd057dd",
   "metadata": {},
   "outputs": [],
   "source": [
    "import copy\n",
    "import numpy as np\n",
    "\n",
    "from pymongo import MongoClient"
   ]
  },
  {
   "cell_type": "markdown",
   "id": "10b91355",
   "metadata": {},
   "source": [
    "#### Player and Items Python Classes "
   ]
  },
  {
   "cell_type": "code",
   "execution_count": 12,
   "id": "2da3978e",
   "metadata": {},
   "outputs": [],
   "source": [
    "class Player:\n",
    "    def __init__(self, name, max_health, max_energy, items=[]):\n",
    "        self.name = name\n",
    "        self.health = max_health \n",
    "        self.max_health = max_health\n",
    "        self.energy = max_energy\n",
    "        self.max_energy = max_energy\n",
    "        self.items = copy.deepcopy(items)\n",
    "        \n",
    "        \n",
    "    def attack(self, player):\n",
    "        energy_cost = 5\n",
    "        \n",
    "        if self.energy >= energy_cost:\n",
    "            attack_strength = np.random.randint(1, 6)\n",
    "            player.health -= attack_strength\n",
    "            self.energy -= energy_cost\n",
    "            print(\"{} attacked {} for {} damage\".format(self.name, player.name, attack_strength))\n",
    "        else:\n",
    "            print(\"{} does not have enough energy to attack {}\".format(self.name, player.name))\n",
    "        \n",
    "        \n",
    "    def heal(self, amount):\n",
    "        self.health += amount\n",
    "        \n",
    "        if self.health > self.max_health:\n",
    "            self.health = self.max_health\n",
    "         \n",
    "        \n",
    "    def stats(self):\n",
    "        return vars(self)\n",
    "        \n",
    "        \n",
    "    def use_item(self, item_name):\n",
    "        try: \n",
    "            item = next(item for item in self.items if item.name == item_name)\n",
    "            item.quantity -= 1\n",
    "\n",
    "            for effect in item.effects:\n",
    "\n",
    "                for method, value in effect.items():\n",
    "                    class_method = getattr(self, method)\n",
    "                    class_method(value)\n",
    "\n",
    "            if item.quantity == 0:\n",
    "                self.items.remove(item)\n",
    "                \n",
    "        except:\n",
    "            print(\"{} does not have any {}s\".format(self.name, item_name))"
   ]
  },
  {
   "cell_type": "code",
   "execution_count": 13,
   "id": "41dd597f",
   "metadata": {},
   "outputs": [],
   "source": [
    "class Item:\n",
    "    def __init__(self, name, quantity, effects=[]):\n",
    "        self.name = name\n",
    "        self.quantity = quantity \n",
    "        self.effects = effects\n",
    "        \n",
    "        \n",
    "    def __repr__(self):\n",
    "        return \"Item(name={}, quantity={}, effects={})\".format(self.name, self.quantity, self.effects)"
   ]
  },
  {
   "cell_type": "markdown",
   "id": "b9a925b2",
   "metadata": {},
   "source": [
    "#### Playground Area\n",
    "Feel free to play around with the Player and Item classes defined above to get a feel for how they work."
   ]
  },
  {
   "cell_type": "code",
   "execution_count": 14,
   "id": "6479563d",
   "metadata": {},
   "outputs": [],
   "source": [
    "# Example usage of Item:\n",
    "potion = Item(\"health_potion\", 2, [{\"heal\": 10}])\n",
    "player_obj = Player(\"kevin\", 12, 200, [potion])"
   ]
  },
  {
   "cell_type": "code",
   "execution_count": 15,
   "id": "e9d57876",
   "metadata": {},
   "outputs": [
    {
     "data": {
      "text/plain": [
       "{'name': 'kevin',\n",
       " 'health': 12,\n",
       " 'max_health': 12,\n",
       " 'energy': 200,\n",
       " 'max_energy': 200,\n",
       " 'items': [Item(name=health_potion, quantity=2, effects=[{'heal': 10}])]}"
      ]
     },
     "execution_count": 15,
     "metadata": {},
     "output_type": "execute_result"
    }
   ],
   "source": [
    "player_obj.stats()"
   ]
  },
  {
   "cell_type": "markdown",
   "id": "8da3bb78",
   "metadata": {},
   "source": [
    "#### Project Instructions"
   ]
  },
  {
   "cell_type": "code",
   "execution_count": 16,
   "id": "196c4a52",
   "metadata": {},
   "outputs": [],
   "source": [
    "# TODO:\n",
    "# 1) Initalize a MongoDB Client object to connect to your database with\n",
    "client = MongoClient(\"mongodb://localhost:27017\")\n",
    "db = client[\"video_game\"]\n",
    "player_col = db[\"player\"]"
   ]
  },
  {
   "cell_type": "code",
   "execution_count": 28,
   "id": "c16935f4",
   "metadata": {},
   "outputs": [],
   "source": [
    "# TODO:\n",
    "# 2) Create a function that takes in a Player object and inserts it into the database, \n",
    "#    Extra Challenge: check for duplicate player entries, if so, do not insert again\n",
    "def insert_player(player_obj, check_for_duplicate=True):\n",
    "    if check_for_duplicate:\n",
    "        duplicate_entry = player_col.find_one({\"name\": player_obj.name})\n",
    "        if duplicate_entry != None:\n",
    "            return duplicate_entry[\"_id\"]\n",
    "    player_dict = copy.deepcopy(vars(player_obj))\n",
    "    player_items_dict = []\n",
    "    for item in player_dict[\"items\"]:\n",
    "        items_dict = vars(item)\n",
    "        player_items_dict.append(items_dict)\n",
    "    player_dict[\"items\"] = player_items_dict\n",
    "    return player_col.insert_one(player_dict).inserted_id\n",
    "\n",
    "# 3) Create a function that is able to find a Player in the databse by searching for their name\n",
    "def find_player_by_name(player_name):\n",
    "    return db.player.find_one({\"name\": player_name})\n",
    "\n",
    "# 4) Create a function that loads the data from the above function and returns a Player object configured with that data\n",
    "def convert_player_object(player_obj):\n",
    "    p = player_obj\n",
    "    items = []\n",
    "    print(p)\n",
    "    for item in p[\"items\"]:\n",
    "        items.append(Item(item[\"name\"], item[\"quantity\"], item[\"effects\"]))\n",
    "    player_obj = Player(p[\"name\"], p[\"max_health\"], p[\"max_energy\"], items)\n",
    "    player_obj.health = p[\"health\"]\n",
    "    player_obj.energy = p[\"energy\"]\n",
    "    return player_obj\n",
    "\n",
    "def find_player_obj_by_name(name):\n",
    "    player = find_player_by_name(name)\n",
    "    return convert_player_object(player)\n"
   ]
  },
  {
   "cell_type": "code",
   "execution_count": null,
   "id": "7ed7a81b",
   "metadata": {},
   "outputs": [
    {
     "name": "stdout",
     "output_type": "stream",
     "text": [
      "67dfe03592fd3ce3514bc685\n",
      "67dfe03692fd3ce3514bc686\n"
     ]
    },
    {
     "ename": "TypeError",
     "evalue": "'NoneType' object is not subscriptable",
     "output_type": "error",
     "traceback": [
      "\u001b[1;31m---------------------------------------------------------------------------\u001b[0m",
      "\u001b[1;31mTypeError\u001b[0m                                 Traceback (most recent call last)",
      "Cell \u001b[1;32mIn[22], line 15\u001b[0m\n\u001b[0;32m     13\u001b[0m \u001b[38;5;28mprint\u001b[39m(insert_id_2)\n\u001b[0;32m     14\u001b[0m \u001b[38;5;66;03m# 7) Load the player data from MongoDB into new player variables\u001b[39;00m\n\u001b[1;32m---> 15\u001b[0m p1 \u001b[38;5;241m=\u001b[39m \u001b[43mfind_player_obj_by_name\u001b[49m\u001b[43m(\u001b[49m\u001b[38;5;124;43m\"\u001b[39;49m\u001b[38;5;124;43mMaximux\u001b[39;49m\u001b[38;5;124;43m\"\u001b[39;49m\u001b[43m)\u001b[49m\n\u001b[0;32m     16\u001b[0m p2 \u001b[38;5;241m=\u001b[39m find_player_obj_by_name(\u001b[38;5;124m\"\u001b[39m\u001b[38;5;124msofe\u001b[39m\u001b[38;5;124m\"\u001b[39m)\n",
      "Cell \u001b[1;32mIn[17], line 34\u001b[0m, in \u001b[0;36mfind_player_obj_by_name\u001b[1;34m(name)\u001b[0m\n\u001b[0;32m     32\u001b[0m \u001b[38;5;28;01mdef\u001b[39;00m\u001b[38;5;250m \u001b[39m\u001b[38;5;21mfind_player_obj_by_name\u001b[39m(name):\n\u001b[0;32m     33\u001b[0m     player \u001b[38;5;241m=\u001b[39m find_player_by_name(name)\n\u001b[1;32m---> 34\u001b[0m     \u001b[38;5;28;01mreturn\u001b[39;00m \u001b[43mconvert_player_object\u001b[49m\u001b[43m(\u001b[49m\u001b[43mplayer\u001b[49m\u001b[43m)\u001b[49m\n",
      "Cell \u001b[1;32mIn[17], line 25\u001b[0m, in \u001b[0;36mconvert_player_object\u001b[1;34m(player_obj)\u001b[0m\n\u001b[0;32m     23\u001b[0m p \u001b[38;5;241m=\u001b[39m player_obj\n\u001b[0;32m     24\u001b[0m items \u001b[38;5;241m=\u001b[39m []\n\u001b[1;32m---> 25\u001b[0m \u001b[38;5;28;01mfor\u001b[39;00m item \u001b[38;5;129;01min\u001b[39;00m \u001b[43mp\u001b[49m\u001b[43m[\u001b[49m\u001b[38;5;124;43m\"\u001b[39;49m\u001b[38;5;124;43mitems\u001b[39;49m\u001b[38;5;124;43m\"\u001b[39;49m\u001b[43m]\u001b[49m:\n\u001b[0;32m     26\u001b[0m     items\u001b[38;5;241m.\u001b[39mappend(Item(item[\u001b[38;5;124m\"\u001b[39m\u001b[38;5;124mname\u001b[39m\u001b[38;5;124m\"\u001b[39m], item[\u001b[38;5;124m\"\u001b[39m\u001b[38;5;124mquantity\u001b[39m\u001b[38;5;124m\"\u001b[39m], item[\u001b[38;5;124m\"\u001b[39m\u001b[38;5;124meffects\u001b[39m\u001b[38;5;124m\"\u001b[39m]))\n\u001b[0;32m     27\u001b[0m player_obj \u001b[38;5;241m=\u001b[39m Player(p[\u001b[38;5;124m\"\u001b[39m\u001b[38;5;124mname\u001b[39m\u001b[38;5;124m\"\u001b[39m], p[\u001b[38;5;124m\"\u001b[39m\u001b[38;5;124mmax_health\u001b[39m\u001b[38;5;124m\"\u001b[39m], p[\u001b[38;5;124m\"\u001b[39m\u001b[38;5;124mmax_energy\u001b[39m\u001b[38;5;124m\"\u001b[39m], items)\n",
      "\u001b[1;31mTypeError\u001b[0m: 'NoneType' object is not subscriptable"
     ]
    }
   ],
   "source": [
    "# TODO:\n",
    "# 5) Create at least 2 players, optionally give them items\n",
    "player1_potion = [Item(\"curse\", quantity=2, effects=[{\"damage\": 10}])]\n",
    "player2_potion = [Item(\"dark magic\", quantity=1, effects=[{\"damage\": 20}])]\n",
    "player3_potion = [Item(\"Potion\", quantity=1, effects=[{\"heal\": 20}])]\n",
    "player1 = Player(\"Maximus\", 12, 200, player1_potion)\n",
    "player2 = Player(\"sofe\", 12, 200, player2_potion)\n",
    "\n",
    "# 6) Insert Players into MongoDB\n",
    "insert_id_1 = insert_player(player1)\n",
    "insert_id_2 = insert_player(player2)\n",
    "print(insert_id_1)\n",
    "print(insert_id_2)\n",
    "# 7) Load the player data from MongoDB into new player variables\n"
   ]
  },
  {
   "cell_type": "code",
   "execution_count": 32,
   "id": "9be53f02",
   "metadata": {},
   "outputs": [
    {
     "name": "stdout",
     "output_type": "stream",
     "text": [
      "{'_id': ObjectId('67dfe03692fd3ce3514bc686'), 'name': 'sofe', 'health': 12, 'max_health': 12, 'energy': 200, 'max_energy': 200, 'items': [{'name': 'dark magic', 'quantity': 1, 'effects': [{'damage': 20}]}]}\n"
     ]
    }
   ],
   "source": [
    "player2_load = find_player_obj_by_name(\"sofe\")"
   ]
  },
  {
   "cell_type": "code",
   "execution_count": 34,
   "id": "e8bde26e",
   "metadata": {},
   "outputs": [
    {
     "data": {
      "text/plain": [
       "[Item(name=dark magic, quantity=1, effects=[{'damage': 20}])]"
      ]
     },
     "execution_count": 34,
     "metadata": {},
     "output_type": "execute_result"
    }
   ],
   "source": [
    "player2_load.items"
   ]
  },
  {
   "cell_type": "code",
   "execution_count": 35,
   "id": "46957bae",
   "metadata": {},
   "outputs": [
    {
     "data": {
      "text/plain": [
       "DeleteResult({'n': 2, 'ok': 1.0}, acknowledged=True)"
      ]
     },
     "execution_count": 35,
     "metadata": {},
     "output_type": "execute_result"
    }
   ],
   "source": [
    "player_col.delete_many({})"
   ]
  },
  {
   "cell_type": "code",
   "execution_count": null,
   "id": "46714b93",
   "metadata": {},
   "outputs": [],
   "source": []
  }
 ],
 "metadata": {
  "kernelspec": {
   "display_name": "myenv",
   "language": "python",
   "name": "python3"
  },
  "language_info": {
   "codemirror_mode": {
    "name": "ipython",
    "version": 3
   },
   "file_extension": ".py",
   "mimetype": "text/x-python",
   "name": "python",
   "nbconvert_exporter": "python",
   "pygments_lexer": "ipython3",
   "version": "3.9.21"
  }
 },
 "nbformat": 4,
 "nbformat_minor": 5
}
